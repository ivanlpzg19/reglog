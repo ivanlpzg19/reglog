{
 "cells": [
  {
   "cell_type": "code",
   "execution_count": 1,
   "id": "7f0f1ef7-f239-444e-b7ff-18772022e45e",
   "metadata": {},
   "outputs": [],
   "source": [
    "%matplotlib inline\n",
    "import matplotlib.pyplot as plt\n",
    "import numpy as np\n",
    "import pandas as pd\n",
    "from scipy import stats\n",
    "import scipy\n",
    "from sklearn.linear_model import LogisticRegression, LinearRegression\n",
    "import itertools\n",
    "import seaborn as sns\n",
    "from sklearn import metrics\n",
    "from sklearn.model_selection import KFold, train_test_split, GridSearchCV\n",
    "from sklearn.base import clone"
   ]
  },
  {
   "cell_type": "markdown",
   "id": "1b777af9-f7c2-4572-9682-6df2fd795c3c",
   "metadata": {},
   "source": [
    "## Parte 1"
   ]
  },
  {
   "cell_type": "code",
   "execution_count": 2,
   "id": "cacb37d0-eab4-4c1c-919f-1cc96e5764a6",
   "metadata": {},
   "outputs": [
    {
     "data": {
      "text/html": [
       "<div>\n",
       "<style scoped>\n",
       "    .dataframe tbody tr th:only-of-type {\n",
       "        vertical-align: middle;\n",
       "    }\n",
       "\n",
       "    .dataframe tbody tr th {\n",
       "        vertical-align: top;\n",
       "    }\n",
       "\n",
       "    .dataframe thead th {\n",
       "        text-align: right;\n",
       "    }\n",
       "</style>\n",
       "<table border=\"1\" class=\"dataframe\">\n",
       "  <thead>\n",
       "    <tr style=\"text-align: right;\">\n",
       "      <th></th>\n",
       "      <th>admit</th>\n",
       "      <th>gre</th>\n",
       "      <th>gpa</th>\n",
       "      <th>rank</th>\n",
       "    </tr>\n",
       "  </thead>\n",
       "  <tbody>\n",
       "    <tr>\n",
       "      <th>0</th>\n",
       "      <td>0</td>\n",
       "      <td>380</td>\n",
       "      <td>3.61</td>\n",
       "      <td>3</td>\n",
       "    </tr>\n",
       "    <tr>\n",
       "      <th>1</th>\n",
       "      <td>1</td>\n",
       "      <td>660</td>\n",
       "      <td>3.67</td>\n",
       "      <td>3</td>\n",
       "    </tr>\n",
       "    <tr>\n",
       "      <th>2</th>\n",
       "      <td>1</td>\n",
       "      <td>800</td>\n",
       "      <td>4.00</td>\n",
       "      <td>1</td>\n",
       "    </tr>\n",
       "    <tr>\n",
       "      <th>3</th>\n",
       "      <td>1</td>\n",
       "      <td>640</td>\n",
       "      <td>3.19</td>\n",
       "      <td>4</td>\n",
       "    </tr>\n",
       "    <tr>\n",
       "      <th>4</th>\n",
       "      <td>0</td>\n",
       "      <td>520</td>\n",
       "      <td>2.93</td>\n",
       "      <td>4</td>\n",
       "    </tr>\n",
       "    <tr>\n",
       "      <th>...</th>\n",
       "      <td>...</td>\n",
       "      <td>...</td>\n",
       "      <td>...</td>\n",
       "      <td>...</td>\n",
       "    </tr>\n",
       "    <tr>\n",
       "      <th>395</th>\n",
       "      <td>0</td>\n",
       "      <td>620</td>\n",
       "      <td>4.00</td>\n",
       "      <td>2</td>\n",
       "    </tr>\n",
       "    <tr>\n",
       "      <th>396</th>\n",
       "      <td>0</td>\n",
       "      <td>560</td>\n",
       "      <td>3.04</td>\n",
       "      <td>3</td>\n",
       "    </tr>\n",
       "    <tr>\n",
       "      <th>397</th>\n",
       "      <td>0</td>\n",
       "      <td>460</td>\n",
       "      <td>2.63</td>\n",
       "      <td>2</td>\n",
       "    </tr>\n",
       "    <tr>\n",
       "      <th>398</th>\n",
       "      <td>0</td>\n",
       "      <td>700</td>\n",
       "      <td>3.65</td>\n",
       "      <td>2</td>\n",
       "    </tr>\n",
       "    <tr>\n",
       "      <th>399</th>\n",
       "      <td>0</td>\n",
       "      <td>600</td>\n",
       "      <td>3.89</td>\n",
       "      <td>3</td>\n",
       "    </tr>\n",
       "  </tbody>\n",
       "</table>\n",
       "<p>400 rows × 4 columns</p>\n",
       "</div>"
      ],
      "text/plain": [
       "     admit  gre   gpa  rank\n",
       "0        0  380  3.61     3\n",
       "1        1  660  3.67     3\n",
       "2        1  800  4.00     1\n",
       "3        1  640  3.19     4\n",
       "4        0  520  2.93     4\n",
       "..     ...  ...   ...   ...\n",
       "395      0  620  4.00     2\n",
       "396      0  560  3.04     3\n",
       "397      0  460  2.63     2\n",
       "398      0  700  3.65     2\n",
       "399      0  600  3.89     3\n",
       "\n",
       "[400 rows x 4 columns]"
      ]
     },
     "execution_count": 2,
     "metadata": {},
     "output_type": "execute_result"
    }
   ],
   "source": [
    "grad = pd.read_csv('grad.csv')\n",
    "grad"
   ]
  },
  {
   "cell_type": "code",
   "execution_count": 3,
   "id": "71952995-5fc7-42e5-b3f5-33d98330fe76",
   "metadata": {},
   "outputs": [
    {
     "data": {
      "text/html": [
       "<div>\n",
       "<style scoped>\n",
       "    .dataframe tbody tr th:only-of-type {\n",
       "        vertical-align: middle;\n",
       "    }\n",
       "\n",
       "    .dataframe tbody tr th {\n",
       "        vertical-align: top;\n",
       "    }\n",
       "\n",
       "    .dataframe thead th {\n",
       "        text-align: right;\n",
       "    }\n",
       "</style>\n",
       "<table border=\"1\" class=\"dataframe\">\n",
       "  <thead>\n",
       "    <tr style=\"text-align: right;\">\n",
       "      <th></th>\n",
       "      <th>admit</th>\n",
       "      <th>gre</th>\n",
       "      <th>gpa</th>\n",
       "      <th>rank</th>\n",
       "    </tr>\n",
       "  </thead>\n",
       "  <tbody>\n",
       "    <tr>\n",
       "      <th>count</th>\n",
       "      <td>400.000000</td>\n",
       "      <td>400.000000</td>\n",
       "      <td>400.000000</td>\n",
       "      <td>400.00000</td>\n",
       "    </tr>\n",
       "    <tr>\n",
       "      <th>mean</th>\n",
       "      <td>0.317500</td>\n",
       "      <td>587.700000</td>\n",
       "      <td>3.389900</td>\n",
       "      <td>2.48500</td>\n",
       "    </tr>\n",
       "    <tr>\n",
       "      <th>std</th>\n",
       "      <td>0.466087</td>\n",
       "      <td>115.516536</td>\n",
       "      <td>0.380567</td>\n",
       "      <td>0.94446</td>\n",
       "    </tr>\n",
       "    <tr>\n",
       "      <th>min</th>\n",
       "      <td>0.000000</td>\n",
       "      <td>220.000000</td>\n",
       "      <td>2.260000</td>\n",
       "      <td>1.00000</td>\n",
       "    </tr>\n",
       "    <tr>\n",
       "      <th>25%</th>\n",
       "      <td>0.000000</td>\n",
       "      <td>520.000000</td>\n",
       "      <td>3.130000</td>\n",
       "      <td>2.00000</td>\n",
       "    </tr>\n",
       "    <tr>\n",
       "      <th>50%</th>\n",
       "      <td>0.000000</td>\n",
       "      <td>580.000000</td>\n",
       "      <td>3.395000</td>\n",
       "      <td>2.00000</td>\n",
       "    </tr>\n",
       "    <tr>\n",
       "      <th>75%</th>\n",
       "      <td>1.000000</td>\n",
       "      <td>660.000000</td>\n",
       "      <td>3.670000</td>\n",
       "      <td>3.00000</td>\n",
       "    </tr>\n",
       "    <tr>\n",
       "      <th>max</th>\n",
       "      <td>1.000000</td>\n",
       "      <td>800.000000</td>\n",
       "      <td>4.000000</td>\n",
       "      <td>4.00000</td>\n",
       "    </tr>\n",
       "  </tbody>\n",
       "</table>\n",
       "</div>"
      ],
      "text/plain": [
       "            admit         gre         gpa       rank\n",
       "count  400.000000  400.000000  400.000000  400.00000\n",
       "mean     0.317500  587.700000    3.389900    2.48500\n",
       "std      0.466087  115.516536    0.380567    0.94446\n",
       "min      0.000000  220.000000    2.260000    1.00000\n",
       "25%      0.000000  520.000000    3.130000    2.00000\n",
       "50%      0.000000  580.000000    3.395000    2.00000\n",
       "75%      1.000000  660.000000    3.670000    3.00000\n",
       "max      1.000000  800.000000    4.000000    4.00000"
      ]
     },
     "execution_count": 3,
     "metadata": {},
     "output_type": "execute_result"
    }
   ],
   "source": [
    "grad.describe()"
   ]
  },
  {
   "cell_type": "code",
   "execution_count": 4,
   "id": "80bd7a5e-cdee-428a-8687-109c6e732add",
   "metadata": {},
   "outputs": [
    {
     "data": {
      "image/png": "[encoded data removed]",
      "text/plain": [
       "<Figure size 1440x360 with 4 Axes>"
      ]
     },
     "metadata": {
      "needs_background": "light"
     },
     "output_type": "display_data"
    }
   ],
   "source": [
    "sns.displot(\n",
    "    grad, x=\"admit\", col=\"rank\"\n",
    ");\n",
    "#Rank 1 school have better admit rate"
   ]
  },
  {
   "cell_type": "code",
   "execution_count": 5,
   "id": "37c875cd-8c1c-4d99-a75b-c2864049cc82",
   "metadata": {},
   "outputs": [
    {
     "data": {
      "image/png": "[encoded data removed]",
      "text/plain": [
       "<Figure size 432x288 with 1 Axes>"
      ]
     },
     "metadata": {
      "needs_background": "light"
     },
     "output_type": "display_data"
    }
   ],
   "source": [
    "sns.boxplot(x=\"admit\", y=\"gre\",\n",
    "            data=grad);\n",
    "# People that got admitted had higher GRE scores"
   ]
  },
  {
   "cell_type": "markdown",
   "id": "a715622f-7c74-4770-aee0-a72e0f922b41",
   "metadata": {},
   "source": [
    "## Parte 2"
   ]
  },
  {
   "cell_type": "code",
   "execution_count": 7,
   "id": "c4f66dd7-d7db-4aef-bd3d-2d07764667b7",
   "metadata": {},
   "outputs": [
    {
     "data": {
      "text/plain": [
       "(     gre   gpa  rank\n",
       " 0    380  3.61     3\n",
       " 1    660  3.67     3\n",
       " 2    800  4.00     1\n",
       " 3    640  3.19     4\n",
       " 4    520  2.93     4\n",
       " ..   ...   ...   ...\n",
       " 395  620  4.00     2\n",
       " 396  560  3.04     3\n",
       " 397  460  2.63     2\n",
       " 398  700  3.65     2\n",
       " 399  600  3.89     3\n",
       " \n",
       " [400 rows x 3 columns],\n",
       " 0      0\n",
       " 1      1\n",
       " 2      1\n",
       " 3      1\n",
       " 4      0\n",
       "       ..\n",
       " 395    0\n",
       " 396    0\n",
       " 397    0\n",
       " 398    0\n",
       " 399    0\n",
       " Name: admit, Length: 400, dtype: int64)"
      ]
     },
     "execution_count": 7,
     "metadata": {},
     "output_type": "execute_result"
    }
   ],
   "source": [
    "X = grad[['gre','gpa','rank']]\n",
    "y = grad['admit']\n",
    "X,y"
   ]
  },
  {
   "cell_type": "code",
   "execution_count": 8,
   "id": "a75ee9a9-5b11-45a0-9208-ca35de46236e",
   "metadata": {},
   "outputs": [],
   "source": [
    "X_train, X_test, y_train, y_test = train_test_split(X,y)"
   ]
  },
  {
   "cell_type": "code",
   "execution_count": 9,
   "id": "7c5fa4d7-e3e9-4c09-b73a-f55485dfaa29",
   "metadata": {},
   "outputs": [],
   "source": [
    "def cv(X_kf, y_kf, base_estimator, n_folds, random_seed=154):\n",
    "    kf = KFold(n_splits=n_folds, random_state=random_seed, shuffle=True)\n",
    "    accuracy, precision, recall = np.empty(n_folds), np.empty(n_folds), np.empty(n_folds)\n",
    "    cv_metrics_test = pd.DataFrame(np.empty(shape=(n_folds, 3)),\n",
    "                                        columns=['Accuracy','Precision','Recall'])\n",
    "    for idx, (train, test) in enumerate(kf.split(X_kf)):\n",
    "        X_tr = X_kf.iloc[train]\n",
    "        y_tr = y_kf.iloc[train]\n",
    "        X_te = X_kf.iloc[test]\n",
    "        y_te = y_kf.iloc[test]\n",
    "        \n",
    "        #scalar = StandardScaler()\n",
    "        #scalar.fit(X_tr)\n",
    "        #X_tr = scalar.transform(X_tr)\n",
    "        #X_te = scalar.transform(X_te)\n",
    "        \n",
    "        estimator = clone(base_estimator)\n",
    "        model = estimator\n",
    "        model.fit(X_tr,y_tr)\n",
    "\n",
    "        y_hat_test = model.predict(X_te)\n",
    "        #y_hat_train = model.predict(X_tr)\n",
    "        \n",
    "        accuracy[idx] = metrics.accuracy_score(y_te, y_hat_test)\n",
    "        precision[idx] = metrics.precision_score(y_te, y_hat_test)\n",
    "        recall[idx] = metrics.recall_score(y_te, y_hat_test)\n",
    "        \n",
    "    cv_metrics_test['Accuracy'] = accuracy\n",
    "    cv_metrics_test['Precision'] = precision\n",
    "    cv_metrics_test['Recall'] = recall\n",
    "    return cv_metrics_test"
   ]
  },
  {
   "cell_type": "code",
   "execution_count": 10,
   "id": "105e7dc8-7a0b-4bb6-81ac-210e61529361",
   "metadata": {},
   "outputs": [
    {
     "data": {
      "text/html": [
       "<div>\n",
       "<style scoped>\n",
       "    .dataframe tbody tr th:only-of-type {\n",
       "        vertical-align: middle;\n",
       "    }\n",
       "\n",
       "    .dataframe tbody tr th {\n",
       "        vertical-align: top;\n",
       "    }\n",
       "\n",
       "    .dataframe thead th {\n",
       "        text-align: right;\n",
       "    }\n",
       "</style>\n",
       "<table border=\"1\" class=\"dataframe\">\n",
       "  <thead>\n",
       "    <tr style=\"text-align: right;\">\n",
       "      <th></th>\n",
       "      <th>Accuracy</th>\n",
       "      <th>Precision</th>\n",
       "      <th>Recall</th>\n",
       "    </tr>\n",
       "  </thead>\n",
       "  <tbody>\n",
       "    <tr>\n",
       "      <th>0</th>\n",
       "      <td>0.666667</td>\n",
       "      <td>0.833333</td>\n",
       "      <td>0.208333</td>\n",
       "    </tr>\n",
       "    <tr>\n",
       "      <th>1</th>\n",
       "      <td>0.683333</td>\n",
       "      <td>0.333333</td>\n",
       "      <td>0.187500</td>\n",
       "    </tr>\n",
       "    <tr>\n",
       "      <th>2</th>\n",
       "      <td>0.766667</td>\n",
       "      <td>0.666667</td>\n",
       "      <td>0.444444</td>\n",
       "    </tr>\n",
       "    <tr>\n",
       "      <th>3</th>\n",
       "      <td>0.650000</td>\n",
       "      <td>0.500000</td>\n",
       "      <td>0.142857</td>\n",
       "    </tr>\n",
       "    <tr>\n",
       "      <th>4</th>\n",
       "      <td>0.700000</td>\n",
       "      <td>0.500000</td>\n",
       "      <td>0.166667</td>\n",
       "    </tr>\n",
       "  </tbody>\n",
       "</table>\n",
       "</div>"
      ],
      "text/plain": [
       "   Accuracy  Precision    Recall\n",
       "0  0.666667   0.833333  0.208333\n",
       "1  0.683333   0.333333  0.187500\n",
       "2  0.766667   0.666667  0.444444\n",
       "3  0.650000   0.500000  0.142857\n",
       "4  0.700000   0.500000  0.166667"
      ]
     },
     "execution_count": 10,
     "metadata": {},
     "output_type": "execute_result"
    }
   ],
   "source": [
    "cv(X_train,y_train,LogisticRegression(max_iter=1000),5)"
   ]
  },
  {
   "cell_type": "code",
   "execution_count": 11,
   "id": "eac26b76-6883-4683-a44a-cc1d4af2cb18",
   "metadata": {},
   "outputs": [
    {
     "data": {
      "text/html": [
       "<div>\n",
       "<style scoped>\n",
       "    .dataframe tbody tr th:only-of-type {\n",
       "        vertical-align: middle;\n",
       "    }\n",
       "\n",
       "    .dataframe tbody tr th {\n",
       "        vertical-align: top;\n",
       "    }\n",
       "\n",
       "    .dataframe thead th {\n",
       "        text-align: right;\n",
       "    }\n",
       "</style>\n",
       "<table border=\"1\" class=\"dataframe\">\n",
       "  <thead>\n",
       "    <tr style=\"text-align: right;\">\n",
       "      <th></th>\n",
       "      <th>admit</th>\n",
       "      <th>gre</th>\n",
       "      <th>gpa</th>\n",
       "      <th>rank</th>\n",
       "    </tr>\n",
       "  </thead>\n",
       "  <tbody>\n",
       "    <tr>\n",
       "      <th>0</th>\n",
       "      <td>0</td>\n",
       "      <td>380</td>\n",
       "      <td>3.61</td>\n",
       "      <td>3</td>\n",
       "    </tr>\n",
       "    <tr>\n",
       "      <th>1</th>\n",
       "      <td>1</td>\n",
       "      <td>660</td>\n",
       "      <td>3.67</td>\n",
       "      <td>3</td>\n",
       "    </tr>\n",
       "    <tr>\n",
       "      <th>2</th>\n",
       "      <td>1</td>\n",
       "      <td>800</td>\n",
       "      <td>4.00</td>\n",
       "      <td>1</td>\n",
       "    </tr>\n",
       "    <tr>\n",
       "      <th>3</th>\n",
       "      <td>1</td>\n",
       "      <td>640</td>\n",
       "      <td>3.19</td>\n",
       "      <td>4</td>\n",
       "    </tr>\n",
       "    <tr>\n",
       "      <th>4</th>\n",
       "      <td>0</td>\n",
       "      <td>520</td>\n",
       "      <td>2.93</td>\n",
       "      <td>4</td>\n",
       "    </tr>\n",
       "  </tbody>\n",
       "</table>\n",
       "</div>"
      ],
      "text/plain": [
       "   admit  gre   gpa  rank\n",
       "0      0  380  3.61     3\n",
       "1      1  660  3.67     3\n",
       "2      1  800  4.00     1\n",
       "3      1  640  3.19     4\n",
       "4      0  520  2.93     4"
      ]
     },
     "execution_count": 11,
     "metadata": {},
     "output_type": "execute_result"
    }
   ],
   "source": [
    "grad.head()"
   ]
  },
  {
   "cell_type": "code",
   "execution_count": 12,
   "id": "f00ebea1-b0f9-4d8f-9361-09351e894117",
   "metadata": {},
   "outputs": [
    {
     "data": {
      "text/html": [
       "<div>\n",
       "<style scoped>\n",
       "    .dataframe tbody tr th:only-of-type {\n",
       "        vertical-align: middle;\n",
       "    }\n",
       "\n",
       "    .dataframe tbody tr th {\n",
       "        vertical-align: top;\n",
       "    }\n",
       "\n",
       "    .dataframe thead th {\n",
       "        text-align: right;\n",
       "    }\n",
       "</style>\n",
       "<table border=\"1\" class=\"dataframe\">\n",
       "  <thead>\n",
       "    <tr style=\"text-align: right;\">\n",
       "      <th></th>\n",
       "      <th>admit</th>\n",
       "      <th>gre</th>\n",
       "      <th>gpa</th>\n",
       "      <th>1</th>\n",
       "      <th>2</th>\n",
       "      <th>3</th>\n",
       "    </tr>\n",
       "  </thead>\n",
       "  <tbody>\n",
       "    <tr>\n",
       "      <th>0</th>\n",
       "      <td>0</td>\n",
       "      <td>380</td>\n",
       "      <td>3.61</td>\n",
       "      <td>0</td>\n",
       "      <td>0</td>\n",
       "      <td>1</td>\n",
       "    </tr>\n",
       "    <tr>\n",
       "      <th>1</th>\n",
       "      <td>1</td>\n",
       "      <td>660</td>\n",
       "      <td>3.67</td>\n",
       "      <td>0</td>\n",
       "      <td>0</td>\n",
       "      <td>1</td>\n",
       "    </tr>\n",
       "    <tr>\n",
       "      <th>2</th>\n",
       "      <td>1</td>\n",
       "      <td>800</td>\n",
       "      <td>4.00</td>\n",
       "      <td>1</td>\n",
       "      <td>0</td>\n",
       "      <td>0</td>\n",
       "    </tr>\n",
       "    <tr>\n",
       "      <th>3</th>\n",
       "      <td>1</td>\n",
       "      <td>640</td>\n",
       "      <td>3.19</td>\n",
       "      <td>0</td>\n",
       "      <td>0</td>\n",
       "      <td>0</td>\n",
       "    </tr>\n",
       "    <tr>\n",
       "      <th>4</th>\n",
       "      <td>0</td>\n",
       "      <td>520</td>\n",
       "      <td>2.93</td>\n",
       "      <td>0</td>\n",
       "      <td>0</td>\n",
       "      <td>0</td>\n",
       "    </tr>\n",
       "  </tbody>\n",
       "</table>\n",
       "</div>"
      ],
      "text/plain": [
       "   admit  gre   gpa  1  2  3\n",
       "0      0  380  3.61  0  0  1\n",
       "1      1  660  3.67  0  0  1\n",
       "2      1  800  4.00  1  0  0\n",
       "3      1  640  3.19  0  0  0\n",
       "4      0  520  2.93  0  0  0"
      ]
     },
     "execution_count": 12,
     "metadata": {},
     "output_type": "execute_result"
    }
   ],
   "source": [
    "rank = pd.get_dummies(grad['rank'])\n",
    "new_grad = pd.concat([grad, rank], axis=1)\n",
    "new_grad = new_grad.drop('rank', axis=1)\n",
    "new_grad = new_grad.drop(4, axis=1)\n",
    "new_grad.head()"
   ]
  },
  {
   "cell_type": "code",
   "execution_count": 13,
   "id": "3aa192bb-5fcc-4954-aaa4-35359806348c",
   "metadata": {},
   "outputs": [
    {
     "data": {
      "text/plain": [
       "(     gre   gpa  1  2  3\n",
       " 0    380  3.61  0  0  1\n",
       " 1    660  3.67  0  0  1\n",
       " 2    800  4.00  1  0  0\n",
       " 3    640  3.19  0  0  0\n",
       " 4    520  2.93  0  0  0\n",
       " ..   ...   ... .. .. ..\n",
       " 395  620  4.00  0  1  0\n",
       " 396  560  3.04  0  0  1\n",
       " 397  460  2.63  0  1  0\n",
       " 398  700  3.65  0  1  0\n",
       " 399  600  3.89  0  0  1\n",
       " \n",
       " [400 rows x 5 columns],\n",
       " 0      0\n",
       " 1      1\n",
       " 2      1\n",
       " 3      1\n",
       " 4      0\n",
       "       ..\n",
       " 395    0\n",
       " 396    0\n",
       " 397    0\n",
       " 398    0\n",
       " 399    0\n",
       " Name: admit, Length: 400, dtype: int64)"
      ]
     },
     "execution_count": 13,
     "metadata": {},
     "output_type": "execute_result"
    }
   ],
   "source": [
    "X_new = new_grad[['gre','gpa',1,2,3]]\n",
    "y_new = new_grad['admit']\n",
    "X_new,y_new"
   ]
  },
  {
   "cell_type": "code",
   "execution_count": 14,
   "id": "79b5eb4f-da72-4319-a512-024b3d8bdd09",
   "metadata": {},
   "outputs": [],
   "source": [
    "X_train_bin, X_test_bin, y_train_bin, y_test_bin = train_test_split(X_new,y_new)"
   ]
  },
  {
   "cell_type": "code",
   "execution_count": 15,
   "id": "544dcdaf-8ac7-45b4-aa17-e192844a15d1",
   "metadata": {},
   "outputs": [
    {
     "data": {
      "text/plain": [
       "Accuracy     0.690000\n",
       "Precision    0.592063\n",
       "Recall       0.201618\n",
       "dtype: float64"
      ]
     },
     "execution_count": 15,
     "metadata": {},
     "output_type": "execute_result"
    }
   ],
   "source": [
    "cv(X_train_bin,y_train_bin,LogisticRegression(max_iter=1000),5).mean()"
   ]
  },
  {
   "cell_type": "code",
   "execution_count": 16,
   "id": "e71fc944-e402-442c-ba29-cb6dbff2b480",
   "metadata": {},
   "outputs": [
    {
     "data": {
      "text/plain": [
       "Accuracy     0.693333\n",
       "Precision    0.566667\n",
       "Recall       0.229960\n",
       "dtype: float64"
      ]
     },
     "execution_count": 16,
     "metadata": {},
     "output_type": "execute_result"
    }
   ],
   "source": [
    "cv(X_train,y_train,LogisticRegression(max_iter=1000),5).mean()"
   ]
  },
  {
   "cell_type": "code",
   "execution_count": 17,
   "id": "cbb48f61-80b1-4511-b0f4-62099e177491",
   "metadata": {},
   "outputs": [
    {
     "data": {
      "text/plain": [
       "LogisticRegression(max_iter=1000)"
      ]
     },
     "execution_count": 17,
     "metadata": {},
     "output_type": "execute_result"
    }
   ],
   "source": [
    "model = LogisticRegression(max_iter=1000)\n",
    "model.fit(X_train,y_train)"
   ]
  },
  {
   "cell_type": "code",
   "execution_count": 18,
   "id": "57858a0d-3ca5-4ffc-b32a-0bdd8ee6df86",
   "metadata": {},
   "outputs": [
    {
     "data": {
      "text/plain": [
       "array([0.21844528, 0.4015218 , 0.41826485, 0.46337761, 0.16006356,\n",
       "       0.13782147, 0.4261604 , 0.36581127, 0.19759769, 0.12648465,\n",
       "       0.38817005, 0.38896138, 0.27949988, 0.72698202, 0.26683912,\n",
       "       0.42162056, 0.15488149, 0.16316792, 0.07113959, 0.30067053,\n",
       "       0.43566073, 0.47287299, 0.23310595, 0.55450065, 0.4151572 ,\n",
       "       0.2770468 , 0.357002  , 0.15246374, 0.21487601, 0.40510918,\n",
       "       0.15592774, 0.24190335, 0.35191315, 0.10588588, 0.17120304,\n",
       "       0.44039393, 0.40217708, 0.54072834, 0.20684574, 0.40129182,\n",
       "       0.24959552, 0.48414796, 0.09294491, 0.35476925, 0.2667143 ,\n",
       "       0.26558054, 0.39370133, 0.31714838, 0.25692841, 0.33084294,\n",
       "       0.44122321, 0.35176763, 0.41596614, 0.09317782, 0.20896226,\n",
       "       0.33606966, 0.22143493, 0.38832161, 0.28786122, 0.41374847,\n",
       "       0.4753015 , 0.15892442, 0.13634286, 0.36957375, 0.31071043,\n",
       "       0.32754373, 0.54565785, 0.09930841, 0.11323113, 0.33504997,\n",
       "       0.21472022, 0.15794667, 0.36136203, 0.41448731, 0.16015387,\n",
       "       0.39078958, 0.44574916, 0.1639575 , 0.15552297, 0.31914469,\n",
       "       0.60099055, 0.62979566, 0.30666807, 0.59246116, 0.38383179,\n",
       "       0.34899512, 0.15289897, 0.33601342, 0.2377783 , 0.24970878,\n",
       "       0.59040783, 0.35896269, 0.31695563, 0.30472907, 0.30933939,\n",
       "       0.11262103, 0.27388727, 0.48254737, 0.46405556, 0.60485687])"
      ]
     },
     "execution_count": 18,
     "metadata": {},
     "output_type": "execute_result"
    }
   ],
   "source": [
    "model.predict_proba(X_test)[:,1]"
   ]
  },
  {
   "cell_type": "code",
   "execution_count": 19,
   "id": "f38a1f2b-13d2-453d-93cd-9f343bee5c00",
   "metadata": {},
   "outputs": [],
   "source": [
    "fpr, tpr, thresholds = metrics.roc_curve(y_test, model.predict_proba(X_test)[:,1])"
   ]
  },
  {
   "cell_type": "code",
   "execution_count": 20,
   "id": "cb6a8253-aac3-4b60-8b6c-d71b602b1d5e",
   "metadata": {},
   "outputs": [
    {
     "data": {
      "text/plain": [
       "0.639047619047619"
      ]
     },
     "execution_count": 20,
     "metadata": {},
     "output_type": "execute_result"
    }
   ],
   "source": [
    "metrics.auc(fpr, tpr)"
   ]
  },
  {
   "cell_type": "code",
   "execution_count": 21,
   "id": "70f95e61-0ef0-42cd-94ba-6b904cf5428b",
   "metadata": {},
   "outputs": [
    {
     "data": {
      "image/png": "[encoded data removed]",
      "text/plain": [
       "<Figure size 720x720 with 1 Axes>"
      ]
     },
     "metadata": {
      "needs_background": "light"
     },
     "output_type": "display_data"
    }
   ],
   "source": [
    "fig, ax = plt.subplots(figsize=(10,10))\n",
    "ax.plot(fpr,tpr)\n",
    "ax.text(0,0.95,f'AUC:{round(metrics.auc(fpr, tpr),3)}',fontsize=22, color='red')\n",
    "ax.set_xlabel('FPR (False Positive Rate)')\n",
    "ax.set_ylabel('TPR (True Positive Rate)')\n",
    "ax.set_title('ROC Curve')\n",
    "for i,(x,y,th) in enumerate(zip(fpr,tpr,thresholds)):\n",
    "    if (i%2 == 0):\n",
    "        ax.text(x-0.05,y+0.01,round(th,2),bbox={'facecolor':'yellow'})  "
   ]
  },
  {
   "cell_type": "code",
   "execution_count": 22,
   "id": "fa5ef1b7-2ef7-424a-aae2-7cb9e9cfba7e",
   "metadata": {},
   "outputs": [
    {
     "name": "stdout",
     "output_type": "stream",
     "text": [
      "yes:  0.3489951152619649\n"
     ]
    }
   ],
   "source": [
    "for i,(f,t,th) in enumerate(zip(fpr,tpr,thresholds)):\n",
    "    if (f<0.4) and (t>=0.6):\n",
    "        print('yes: ',th)"
   ]
  },
  {
   "cell_type": "code",
   "execution_count": 23,
   "id": "c77a96f8-3700-42d3-bd66-0ca898bce181",
   "metadata": {},
   "outputs": [],
   "source": []
  },
  {
   "cell_type": "markdown",
   "id": "05b60ca6-538c-4494-82c4-8df9ad5200fe",
   "metadata": {},
   "source": [
    "## Parte 3"
   ]
  },
  {
   "cell_type": "code",
   "execution_count": 23,
   "id": "a76d45bc-c4ee-415f-b1dd-1208e6cd5533",
   "metadata": {},
   "outputs": [
    {
     "ename": "ModuleNotFoundError",
     "evalue": "No module named 'src'",
     "output_type": "error",
     "traceback": [
      "\u001b[1;31m---------------------------------------------------------------------------\u001b[0m",
      "\u001b[1;31mModuleNotFoundError\u001b[0m                       Traceback (most recent call last)",
      "\u001b[1;32m<ipython-input-23-189c34761fd9>\u001b[0m in \u001b[0;36m<module>\u001b[1;34m\u001b[0m\n\u001b[0;32m      3\u001b[0m \u001b[1;32mimport\u001b[0m \u001b[0mmatplotlib\u001b[0m\u001b[1;33m.\u001b[0m\u001b[0mpyplot\u001b[0m \u001b[1;32mas\u001b[0m \u001b[0mplt\u001b[0m\u001b[1;33m\u001b[0m\u001b[1;33m\u001b[0m\u001b[0m\n\u001b[0;32m      4\u001b[0m \u001b[1;32mfrom\u001b[0m \u001b[0msklearn\u001b[0m\u001b[1;33m.\u001b[0m\u001b[0mmodel_selection\u001b[0m \u001b[1;32mimport\u001b[0m \u001b[0mtrain_test_split\u001b[0m\u001b[1;33m\u001b[0m\u001b[1;33m\u001b[0m\u001b[0m\n\u001b[1;32m----> 5\u001b[1;33m \u001b[1;32mfrom\u001b[0m \u001b[0msrc\u001b[0m\u001b[1;33m.\u001b[0m\u001b[0mroc_curve\u001b[0m \u001b[1;32mimport\u001b[0m \u001b[0mroc_curve\u001b[0m\u001b[1;33m\u001b[0m\u001b[1;33m\u001b[0m\u001b[0m\n\u001b[0m\u001b[0;32m      6\u001b[0m \u001b[1;31m#from roc_curve import roc_curve\u001b[0m\u001b[1;33m\u001b[0m\u001b[1;33m\u001b[0m\u001b[1;33m\u001b[0m\u001b[0m\n",
      "\u001b[1;31mModuleNotFoundError\u001b[0m: No module named 'src'"
     ]
    }
   ],
   "source": [
    "from sklearn.datasets import make_classification\n",
    "from sklearn.linear_model import LogisticRegression\n",
    "import matplotlib.pyplot as plt\n",
    "from sklearn.model_selection import train_test_split\n",
    "from src.roc_curve import roc_curve\n",
    "#from roc_curve import roc_curve"
   ]
  },
  {
   "cell_type": "code",
   "execution_count": 26,
   "id": "8c9f3224-b43a-47a7-bd74-1cbdbd80073d",
   "metadata": {},
   "outputs": [],
   "source": [
    "X, y = make_classification(n_features=2, n_redundant=0, n_informative=2,\n",
    "                           n_clusters_per_class=2, n_samples=1000)\n",
    "X_train, X_test, y_train, y_test = train_test_split(X, y)"
   ]
  },
  {
   "cell_type": "code",
   "execution_count": 27,
   "id": "b4000d34-9721-4e23-b2f2-2818dd20bce9",
   "metadata": {},
   "outputs": [
    {
     "data": {
      "text/plain": [
       "LogisticRegression()"
      ]
     },
     "execution_count": 27,
     "metadata": {},
     "output_type": "execute_result"
    }
   ],
   "source": [
    "lr = LogisticRegression()\n",
    "lr.fit(X_train, y_train)"
   ]
  },
  {
   "cell_type": "code",
   "execution_count": 28,
   "id": "e8af47e6-2b21-4da0-9dba-5199e00901f7",
   "metadata": {},
   "outputs": [],
   "source": [
    "\n",
    "y_pred=lr.predict_proba(X_test)[:, 1]"
   ]
  },
  {
   "cell_type": "code",
   "execution_count": 29,
   "id": "f1faecc9-bb8d-44c8-af32-8bc72d6bbc7b",
   "metadata": {},
   "outputs": [],
   "source": [
    "from sklearn.metrics import accuracy_score,r2_score,f1_score,roc_auc_score,roc_curve,mean_squared_error,precision_score,recall_score,accuracy_score,make_scorer"
   ]
  },
  {
   "cell_type": "code",
   "execution_count": 30,
   "id": "a06c5317-2331-43ce-95b9-ab88afb621d6",
   "metadata": {},
   "outputs": [
    {
     "data": {
      "text/plain": [
       "array([6.96260204e-02, 9.90065015e-01, 2.45521183e-03, 1.24414655e-01,\n",
       "       1.54769433e-02, 3.36976966e-02, 1.51890326e-02, 9.26481504e-01,\n",
       "       1.04163518e-02, 8.99247625e-01, 7.83979278e-03, 9.74279164e-01,\n",
       "       5.78385612e-01, 9.91087791e-01, 2.05313004e-01, 9.73900778e-01,\n",
       "       6.25493646e-02, 9.93977561e-01, 8.03854157e-01, 9.83155138e-01,\n",
       "       3.63350252e-02, 4.79022811e-02, 3.30408132e-01, 3.02603753e-02,\n",
       "       9.71603252e-01, 1.34800907e-03, 4.11955406e-02, 8.09214633e-01,\n",
       "       9.85912997e-01, 3.50423444e-02, 9.63180037e-01, 8.93579923e-01,\n",
       "       8.86327121e-01, 2.39333097e-02, 1.86013885e-02, 4.61660883e-02,\n",
       "       9.49395962e-01, 1.85441788e-02, 9.96405248e-01, 2.31565305e-02,\n",
       "       9.89423452e-01, 2.14243183e-02, 3.89731229e-02, 2.77494052e-01,\n",
       "       9.96003148e-01, 8.71930857e-01, 6.36634776e-01, 6.35299583e-02,\n",
       "       5.41827981e-02, 6.04487774e-02, 6.74046234e-01, 9.94191297e-01,\n",
       "       9.35873829e-01, 4.90721065e-01, 5.92961909e-02, 9.99926543e-01,\n",
       "       9.79769870e-01, 9.82641747e-01, 9.39401523e-01, 7.35811183e-01,\n",
       "       1.31279181e-01, 4.55045653e-01, 9.99966308e-01, 4.63606395e-01,\n",
       "       9.85480774e-01, 3.40293999e-02, 7.94639810e-02, 9.86762772e-01,\n",
       "       2.45344965e-01, 9.14162911e-01, 9.94135073e-01, 9.93161232e-01,\n",
       "       1.09843716e-02, 9.87286746e-01, 1.62966706e-01, 9.85901574e-01,\n",
       "       4.85996879e-02, 9.08272506e-01, 1.93134793e-01, 4.23698000e-02,\n",
       "       3.84858571e-03, 9.99187635e-01, 9.96906884e-01, 6.59172794e-02,\n",
       "       9.13968559e-03, 1.38592295e-01, 1.76403981e-01, 9.99686178e-01,\n",
       "       6.28621076e-02, 9.53724932e-01, 5.44544505e-01, 2.27313213e-02,\n",
       "       9.95234641e-01, 3.42402831e-01, 1.19141995e-01, 5.89258251e-02,\n",
       "       2.61774639e-02, 2.79123199e-02, 9.82067044e-01, 2.33110885e-02,\n",
       "       9.88419533e-01, 9.82700468e-01, 9.56031854e-01, 9.61489794e-01,\n",
       "       2.47136835e-02, 6.00701803e-02, 2.04565393e-02, 6.76075646e-02,\n",
       "       5.78499369e-01, 7.80264740e-01, 3.23356942e-01, 4.53842537e-02,\n",
       "       8.51715801e-01, 9.54666386e-01, 3.73413195e-02, 2.63628052e-02,\n",
       "       9.70642134e-01, 5.23913441e-02, 2.75817059e-01, 7.15923489e-02,\n",
       "       6.83274130e-01, 1.76090576e-02, 2.02582151e-02, 2.11810059e-02,\n",
       "       5.66891601e-02, 4.18813095e-02, 9.80877882e-01, 9.90965544e-01,\n",
       "       9.97860626e-01, 7.79002060e-02, 3.86935058e-02, 5.20851902e-03,\n",
       "       9.85741551e-01, 3.07572591e-02, 9.96087540e-01, 5.16751164e-02,\n",
       "       9.22081080e-01, 9.82886511e-02, 8.07577441e-02, 1.18138481e-01,\n",
       "       5.45764409e-02, 8.38848640e-01, 2.68720726e-02, 1.12041693e-02,\n",
       "       7.04763097e-01, 9.98866649e-01, 3.69156649e-02, 9.99366145e-01,\n",
       "       9.90855099e-01, 9.90448981e-01, 9.87618741e-01, 1.01018678e-01,\n",
       "       1.13530198e-02, 6.51762298e-04, 9.94623532e-01, 6.09162716e-01,\n",
       "       5.33952071e-02, 9.99928408e-01, 7.42737117e-01, 1.07050661e-02,\n",
       "       1.95212608e-02, 7.70885820e-02, 2.78220875e-02, 5.09928284e-02,\n",
       "       8.81019690e-01, 9.89240478e-01, 9.62722599e-02, 9.41912603e-02,\n",
       "       1.57884767e-02, 9.99865877e-01, 9.99835285e-01, 9.20638094e-01,\n",
       "       6.49011334e-02, 9.94720106e-01, 9.01218372e-01, 2.24502657e-04,\n",
       "       9.97840276e-01, 9.90662529e-01, 7.69965235e-02, 8.91632467e-01,\n",
       "       6.79650199e-01, 1.30589165e-01, 6.79831586e-01, 6.86381608e-01,\n",
       "       9.99958886e-01, 9.42644825e-01, 9.46880380e-01, 1.48917521e-02,\n",
       "       6.37873150e-02, 9.96907518e-03, 9.92140207e-01, 9.97048339e-01,\n",
       "       3.84746469e-02, 1.05948623e-01, 5.65016408e-02, 5.73016602e-01,\n",
       "       9.79279665e-01, 5.49338390e-01, 9.99936781e-01, 9.16557056e-02,\n",
       "       5.38736869e-02, 9.70063257e-01, 7.63432969e-02, 4.72958748e-02,\n",
       "       3.87680761e-02, 9.90420638e-01, 5.86201720e-02, 1.33588059e-01,\n",
       "       9.99909441e-01, 7.50775078e-02, 4.73373859e-01, 9.55471857e-01,\n",
       "       9.84499002e-01, 5.26560671e-02, 2.37975475e-02, 2.76163722e-01,\n",
       "       5.92091940e-01, 4.34673311e-02, 1.47743467e-02, 8.05423857e-01,\n",
       "       1.54348656e-02, 9.98291386e-01, 8.36490556e-02, 3.39217814e-02,\n",
       "       9.29800373e-01, 9.96757692e-01, 9.92369276e-01, 6.46166185e-02,\n",
       "       9.81863244e-01, 9.73765205e-01, 1.18338335e-02, 3.23441320e-02,\n",
       "       2.13610093e-02, 5.84945571e-02, 1.08733612e-03, 1.06901492e-01,\n",
       "       8.90157847e-02, 8.00078002e-01, 5.24229336e-01, 9.57671633e-01,\n",
       "       8.48303341e-01, 9.22083542e-01, 2.67956742e-02, 1.00090008e-01,\n",
       "       9.42524922e-01, 9.99538256e-01, 9.86770212e-01, 1.49753502e-03,\n",
       "       1.80370416e-02, 9.97529222e-01])"
      ]
     },
     "execution_count": 30,
     "metadata": {},
     "output_type": "execute_result"
    }
   ],
   "source": [
    "y_pred"
   ]
  },
  {
   "cell_type": "code",
   "execution_count": null,
   "id": "a45150ba-2721-4b7d-890c-d12c17b0ff3e",
   "metadata": {},
   "outputs": [],
   "source": []
  },
  {
   "cell_type": "code",
   "execution_count": 31,
   "id": "ee39c108-378b-44d7-9f54-2fc953a4d57c",
   "metadata": {},
   "outputs": [
    {
     "data": {
      "image/png": "[encoded data removed]",
      "text/plain": [
       "<Figure size 432x288 with 1 Axes>"
      ]
     },
     "metadata": {
      "needs_background": "light"
     },
     "output_type": "display_data"
    }
   ],
   "source": [
    "fpr, tpr, thr = roc_curve(y_test,y_pred)\n",
    "\n",
    "plt.plot(fpr, tpr)\n",
    "plt.xlabel(\"False Positive Rate (1 - Specificity)\")\n",
    "plt.ylabel(\"True Positive Rate (Sensitivity, Recall)\")\n",
    "plt.title(\"ROC plot of fake data\")\n",
    "plt.show()"
   ]
  },
  {
   "cell_type": "code",
   "execution_count": 33,
   "id": "cd24e8cd-ec3b-4d73-91ed-d124b219f121",
   "metadata": {},
   "outputs": [],
   "source": [
    "df = pd.read_csv('loanf.csv')\n",
    "y_rate = (df['Interest.Rate'] <= 12).values\n",
    "X_rate = df[['FICO.Score', 'Loan.Length', 'Loan.Amount']].values"
   ]
  },
  {
   "cell_type": "code",
   "execution_count": 34,
   "id": "b4bd9980-08a1-4b23-b892-0cb563ed395f",
   "metadata": {},
   "outputs": [
    {
     "data": {
      "text/plain": [
       "(array([[  670,    36,  6000],\n",
       "        [  670,    36,  2000],\n",
       "        [  665,    36, 10625],\n",
       "        ...,\n",
       "        [  810,    36, 27000],\n",
       "        [  765,    36, 25000],\n",
       "        [  740,    60, 16000]], dtype=int64),\n",
       " array([False, False, False, ...,  True,  True, False]))"
      ]
     },
     "execution_count": 34,
     "metadata": {},
     "output_type": "execute_result"
    }
   ],
   "source": [
    "X_rate,y_rate"
   ]
  },
  {
   "cell_type": "code",
   "execution_count": 35,
   "id": "a282996e-9b4a-4230-846a-a375797f9c43",
   "metadata": {},
   "outputs": [],
   "source": [
    "X_train_rate, X_test_rate, y_train_rate, y_test_rate = train_test_split(X_rate,y_rate)"
   ]
  },
  {
   "cell_type": "code",
   "execution_count": 36,
   "id": "f295564c-dd55-4926-90c5-75c827e2af79",
   "metadata": {},
   "outputs": [
    {
     "data": {
      "text/plain": [
       "LogisticRegression(max_iter=1000)"
      ]
     },
     "execution_count": 36,
     "metadata": {},
     "output_type": "execute_result"
    }
   ],
   "source": [
    "lr_rate = LogisticRegression(max_iter=1000)\n",
    "lr_rate.fit(X_train_rate,y_train_rate)"
   ]
  },
  {
   "cell_type": "code",
   "execution_count": 37,
   "id": "fa906777-7cba-48c8-8201-315391ccc687",
   "metadata": {},
   "outputs": [],
   "source": [
    "y_pred_rate = lr_rate.predict_proba(X_test_rate)[:, 1]"
   ]
  },
  {
   "cell_type": "code",
   "execution_count": 38,
   "id": "d396bce2-9f02-4b95-a141-902cc9eb8ce1",
   "metadata": {},
   "outputs": [
    {
     "data": {
      "text/plain": [
       "array([0.35633195, 0.57722464, 0.14559541, 0.5432281 , 0.60950731,\n",
       "       0.44270531, 0.63986966, 0.46533144, 0.45426887, 0.47857872,\n",
       "       0.59115553, 0.50192268, 0.63249636, 0.43329994, 0.53003907,\n",
       "       0.08281812, 0.52050162, 0.50989147, 0.46851317, 0.54428774,\n",
       "       0.5310933 , 0.05541983, 0.50457283, 0.05861488, 0.57827603,\n",
       "       0.46059099, 0.54902239, 0.47380371, 0.08967902, 0.54323957,\n",
       "       0.53213767, 0.39822933, 0.44323227, 0.36762199, 0.5495511 ,\n",
       "       0.47486871, 0.46112162, 0.33330132, 0.65680904, 0.39974628,\n",
       "       0.5432281 , 0.50829029, 0.53583856, 0.49183792, 0.42237848,\n",
       "       0.56630063, 0.04066853, 0.48918765, 0.56527023, 0.07795303,\n",
       "       0.53003715, 0.47486871, 0.48520284, 0.09987758, 0.35878481,\n",
       "       0.41153241, 0.42237848, 0.5324059 , 0.517322  , 0.42601109,\n",
       "       0.32301139, 0.51996859, 0.08985351, 0.10199573, 0.56839373,\n",
       "       0.05334529, 0.28442246, 0.53637925, 0.07524919, 0.54850309,\n",
       "       0.0647596 , 0.04603465, 0.60087892, 0.53532651, 0.5310933 ,\n",
       "       0.49555444, 0.50935777, 0.36318295, 0.06424715, 0.0961218 ,\n",
       "       0.14798671, 0.51519537, 0.49768034, 0.58524639, 0.07407629,\n",
       "       0.57515742, 0.36073469, 0.50351472, 0.08779195, 0.55270198,\n",
       "       0.39112235, 0.5448174 , 0.56213775, 0.05021559, 0.51255003,\n",
       "       0.40690896, 0.09465554, 0.46798909, 0.62256829, 0.57775324,\n",
       "       0.52155601, 0.05475685, 0.4939683 , 0.08169975, 0.06161638,\n",
       "       0.51360749, 0.5495511 , 0.55270008, 0.45162776, 0.65537385,\n",
       "       0.41514251, 0.49555444, 0.49978706, 0.08577323, 0.58446626,\n",
       "       0.04911413, 0.488654  , 0.4754013 , 0.50510669, 0.65007334,\n",
       "       0.05676956, 0.6582431 , 0.10635831, 0.5527115 , 0.55636631,\n",
       "       0.15369762, 0.5421872 , 0.0444735 , 0.49662219, 0.04058529,\n",
       "       0.50724198, 0.620558  , 0.488654  , 0.53003524, 0.07220474,\n",
       "       0.60747591, 0.48122471, 0.08985351, 0.051033  , 0.47486871,\n",
       "       0.48547196, 0.04279077, 0.47909246, 0.59319996, 0.02893419,\n",
       "       0.04362544, 0.06285374, 0.49873466, 0.46956922, 0.5527115 ,\n",
       "       0.07525133, 0.0710048 , 0.67616539, 0.41565739, 0.68309818,\n",
       "       0.53213767, 0.46798909, 0.39669405, 0.57100854, 0.49316902,\n",
       "       0.47857872, 0.50935777, 0.488654  , 0.08985351, 0.0748067 ,\n",
       "       0.46217358, 0.58962478, 0.52367957, 0.04881578, 0.10006315,\n",
       "       0.47539842, 0.0484242 , 0.66395543, 0.08770601, 0.5210346 ,\n",
       "       0.3671346 , 0.44952731, 0.48070119, 0.04050222, 0.45294608,\n",
       "       0.61050511, 0.56265386, 0.563185  , 0.5932074 , 0.41824016,\n",
       "       0.0659271 , 0.46533623, 0.46112162, 0.5574203 , 0.43693647,\n",
       "       0.488654  , 0.08477673, 0.54850309, 0.38456749, 0.45058446,\n",
       "       0.08265604, 0.5400622 , 0.06399084, 0.55296453, 0.59167159,\n",
       "       0.11320629, 0.35245819, 0.5310933 , 0.07163251, 0.476195  ,\n",
       "       0.46745741, 0.44584994, 0.65152936, 0.54375319, 0.10238478,\n",
       "       0.45846936, 0.57774573, 0.55533083, 0.05082711, 0.50935777,\n",
       "       0.46587048, 0.05062311, 0.45846936, 0.53347579, 0.55637581,\n",
       "       0.4626949 , 0.57827415, 0.59474882, 0.55795469, 0.43693647,\n",
       "       0.44375556, 0.13759347, 0.65680904, 0.59782047, 0.57620077,\n",
       "       0.4448044 , 0.57878737, 0.08330608, 0.5831882 , 0.58550322,\n",
       "       0.05932444, 0.52314684, 0.50670818, 0.50669374, 0.0494124 ,\n",
       "       0.63348148, 0.53426387, 0.63494634, 0.42496699, 0.53479906,\n",
       "       0.04538725, 0.61755437, 0.53530735, 0.52209082, 0.55585814,\n",
       "       0.44715752, 0.57568294, 0.11150852, 0.59115553, 0.38532457,\n",
       "       0.43930271, 0.06204763, 0.57204224, 0.06051875, 0.06424715,\n",
       "       0.1061482 , 0.56892134, 0.37058793, 0.50777192, 0.45689823,\n",
       "       0.57567918, 0.46428807, 0.10395774, 0.49290452, 0.07569624,\n",
       "       0.55007018, 0.04803385, 0.54745465, 0.59577415, 0.60342042,\n",
       "       0.12156326, 0.09160257, 0.13189795, 0.54745465, 0.37431768,\n",
       "       0.56474535, 0.41977547, 0.48652932, 0.46798909, 0.53690838,\n",
       "       0.4120497 , 0.41668583, 0.03460364, 0.55165532, 0.63150297,\n",
       "       0.5013984 , 0.53135682, 0.48493853, 0.03912186, 0.06076205,\n",
       "       0.417715  , 0.62952722, 0.33567833, 0.06235807, 0.59063927,\n",
       "       0.63050847, 0.08265604, 0.58292814, 0.45453122, 0.4595319 ,\n",
       "       0.53082018, 0.04631479, 0.58060341, 0.5621349 , 0.55689337,\n",
       "       0.37855655, 0.60798136, 0.45373949, 0.44897985, 0.05826679,\n",
       "       0.46428999, 0.5210346 , 0.04697667, 0.12201186, 0.49077428,\n",
       "       0.54006411, 0.07856172, 0.09267442, 0.06791281, 0.43276899,\n",
       "       0.43120352, 0.25354041, 0.52262558, 0.55532988, 0.43798758,\n",
       "       0.53002948, 0.58240883, 0.60849024, 0.45373949, 0.48200863,\n",
       "       0.39872184, 0.51466964, 0.52738795, 0.5411268 , 0.0297201 ,\n",
       "       0.50245657, 0.49555444, 0.25374584, 0.58550136, 0.61805864,\n",
       "       0.52897018, 0.49767071, 0.59883865, 0.56108615, 0.12948483,\n",
       "       0.53849333, 0.63741071, 0.49978706, 0.36073469, 0.38507306,\n",
       "       0.41409743, 0.56370652, 0.59935066, 0.37655805, 0.03940301,\n",
       "       0.5162554 , 0.50087413, 0.05345148, 0.52844955, 0.43956528,\n",
       "       0.55428536, 0.39975552, 0.07964792, 0.45373949, 0.08526975,\n",
       "       0.54587643, 0.40588322, 0.59807301, 0.07009795, 0.05323754,\n",
       "       0.41875426, 0.49767071, 0.58524639, 0.50724198, 0.517322  ,\n",
       "       0.62704963, 0.07335245, 0.57047306, 0.06886031, 0.59321855,\n",
       "       0.11886918, 0.06373549, 0.36318295, 0.5434983 , 0.46745741,\n",
       "       0.085936  , 0.53584813, 0.54007081, 0.50802677, 0.49662219,\n",
       "       0.53928408, 0.64084091, 0.07918515, 0.35148397, 0.38456749,\n",
       "       0.5655293 , 0.05228276, 0.52421226, 0.07306265, 0.10495301,\n",
       "       0.68263569, 0.50245657, 0.48759641, 0.5411268 , 0.4234115 ,\n",
       "       0.41565739, 0.54375797, 0.0930277 , 0.08265604, 0.40896753,\n",
       "       0.54745465, 0.0545362 , 0.56527023, 0.48918476, 0.36318295,\n",
       "       0.62306546, 0.05238677, 0.49662219, 0.48175789, 0.533199  ,\n",
       "       0.56579496, 0.53743167, 0.07227463, 0.5967931 , 0.43903924,\n",
       "       0.43016568, 0.51626309, 0.50085487, 0.48175789, 0.56735882,\n",
       "       0.47858449, 0.59116297, 0.4822911 , 0.09987793, 0.09429278,\n",
       "       0.55007685, 0.61856265, 0.53980986, 0.53690838, 0.44009145,\n",
       "       0.53769951, 0.63150297, 0.12088567, 0.07524999, 0.49502347,\n",
       "       0.48918765, 0.5548034 , 0.59577415, 0.386573  , 0.62953081,\n",
       "       0.53583856, 0.53716477, 0.58936592, 0.48333938, 0.45215959,\n",
       "       0.49820461, 0.5421872 , 0.61102197, 0.45636834, 0.45690301,\n",
       "       0.52631938, 0.31539962, 0.38256225, 0.50962414, 0.57620077,\n",
       "       0.53002948, 0.48918765, 0.37106824, 0.50352434, 0.52633282,\n",
       "       0.10983231, 0.64474608, 0.56474535, 0.09704815, 0.43956528,\n",
       "       0.12876869, 0.52050162, 0.51889086, 0.62853412, 0.61101282,\n",
       "       0.5215637 , 0.14296824, 0.49183696, 0.52209082, 0.40896567,\n",
       "       0.55585243, 0.417715  , 0.48281763, 0.32674174, 0.03848892,\n",
       "       0.08660514, 0.53268083, 0.46798909, 0.04622055, 0.05366585,\n",
       "       0.03397005, 0.11622374, 0.57619607, 0.42496699, 0.32674174,\n",
       "       0.3987403 , 0.40358503, 0.47805063, 0.44007247, 0.46798909,\n",
       "       0.4317274 , 0.06731195, 0.58962478, 0.56631198, 0.69941327,\n",
       "       0.36861103, 0.45242077, 0.52314684, 0.53585388, 0.06149302,\n",
       "       0.647658  , 0.48865112, 0.48998575, 0.52129387, 0.50936547,\n",
       "       0.55952671, 0.40896753, 0.47486871, 0.07495464, 0.63741071,\n",
       "       0.52314684, 0.52315645, 0.57826851, 0.08847227, 0.06456597,\n",
       "       0.46612806, 0.50192268, 0.57151934, 0.47222202, 0.52845243,\n",
       "       0.51148476, 0.07436872, 0.56369515, 0.45136761, 0.41565739,\n",
       "       0.69040727, 0.47645127, 0.517322  , 0.12477549, 0.45663566,\n",
       "       0.47486871, 0.40741981, 0.06223219, 0.53954794, 0.41563214,\n",
       "       0.60799053, 0.10635831, 0.488654  , 0.44218228, 0.05620355,\n",
       "       0.47220667, 0.10415325, 0.51042516, 0.5527115 , 0.09556792,\n",
       "       0.52738795, 0.36712923, 0.54113445, 0.41101997, 0.58084981,\n",
       "       0.46112162, 0.45636834, 0.47141651, 0.08137843, 0.42757093,\n",
       "       0.5310933 , 0.05475685, 0.66632003, 0.46745741, 0.09392602,\n",
       "       0.50538372, 0.47353798, 0.5366443 , 0.04911413, 0.63372713,\n",
       "       0.08074496, 0.56892134, 0.49927241, 0.47486871, 0.51413425,\n",
       "       0.51042516, 0.417715  , 0.53716381, 0.05745439, 0.55059868,\n",
       "       0.13361064, 0.51414099, 0.38155476, 0.52421226, 0.07918515,\n",
       "       0.46059099, 0.53002468, 0.59116297, 0.51042516, 0.55218347,\n",
       "       0.61555301, 0.53585388, 0.45215196, 0.37805427, 0.04279077,\n",
       "       0.50299046, 0.4822911 , 0.16362117, 0.50352434, 0.04331551,\n",
       "       0.47063609, 0.41565739, 0.48387175, 0.60392032, 0.46613285,\n",
       "       0.62754532, 0.57308003, 0.06064204, 0.50935777, 0.55533083])"
      ]
     },
     "execution_count": 38,
     "metadata": {},
     "output_type": "execute_result"
    }
   ],
   "source": [
    "y_pred_rate"
   ]
  },
  {
   "cell_type": "code",
   "execution_count": 40,
   "id": "887ec8b6-cd07-41e9-84ce-ac1ed4217251",
   "metadata": {},
   "outputs": [],
   "source": [
    "fpr_rate,tpr_rate,thr_rate= roc_curve(y_test_rate,y_pred_rate)"
   ]
  },
  {
   "cell_type": "code",
   "execution_count": null,
   "id": "76a7815a-09d7-479f-8284-e4caa472bb5d",
   "metadata": {},
   "outputs": [],
   "source": []
  },
  {
   "cell_type": "code",
   "execution_count": 42,
   "id": "09cb004c-58ef-4648-b613-7f969607ef9e",
   "metadata": {},
   "outputs": [
    {
     "data": {
      "image/png": "[encoded data removed]",
      "text/plain": [
       "<Figure size 432x288 with 1 Axes>"
      ]
     },
     "metadata": {
      "needs_background": "light"
     },
     "output_type": "display_data"
    }
   ],
   "source": [
    "plt.plot(fpr_rate, tpr_rate)\n",
    "plt.xlabel(\"False Positive Rate (1 - Specificity)\")\n",
    "plt.ylabel(\"True Positive Rate (Sensitivity, Recall)\")\n",
    "plt.title(\"ROC plot of fake data\")\n",
    "plt.show()"
   ]
  },
  {
   "cell_type": "code",
   "execution_count": null,
   "id": "d24b6ece-feb0-4eee-a4f4-ef622fa5ab48",
   "metadata": {},
   "outputs": [],
   "source": []
  }
 ],
 "metadata": {
  "kernelspec": {
   "display_name": "Python 3",
   "language": "python",
   "name": "python3"
  },
  "language_info": {
   "codemirror_mode": {
    "name": "ipython",
    "version": 3
   },
   "file_extension": ".py",
   "mimetype": "text/x-python",
   "name": "python",
   "nbconvert_exporter": "python",
   "pygments_lexer": "ipython3",
   "version": "3.6.13"
  }
 },
 "nbformat": 4,
 "nbformat_minor": 5
}
