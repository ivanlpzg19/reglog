{
 "cells": [
  {
   "cell_type": "code",
   "execution_count": 1,
   "id": "7f0f1ef7-f239-444e-b7ff-18772022e45e",
   "metadata": {},
   "outputs": [],
   "source": [
    "%matplotlib inline\n",
    "import matplotlib.pyplot as plt\n",
    "import numpy as np\n",
    "import pandas as pd\n",
    "from scipy import stats\n",
    "import scipy\n",
    "from sklearn.linear_model import LogisticRegression, LinearRegression\n",
    "import itertools\n",
    "import seaborn as sns\n",
    "from sklearn import metrics\n",
    "from sklearn.model_selection import KFold, train_test_split, GridSearchCV\n",
    "from sklearn.base import clone"
   ]
  },
  {
   "cell_type": "code",
   "execution_count": 2,
   "id": "cacb37d0-eab4-4c1c-919f-1cc96e5764a6",
   "metadata": {},
   "outputs": [
    {
     "data": {
      "text/html": [
       "<div>\n",
       "<style scoped>\n",
       "    .dataframe tbody tr th:only-of-type {\n",
       "        vertical-align: middle;\n",
       "    }\n",
       "\n",
       "    .dataframe tbody tr th {\n",
       "        vertical-align: top;\n",
       "    }\n",
       "\n",
       "    .dataframe thead th {\n",
       "        text-align: right;\n",
       "    }\n",
       "</style>\n",
       "<table border=\"1\" class=\"dataframe\">\n",
       "  <thead>\n",
       "    <tr style=\"text-align: right;\">\n",
       "      <th></th>\n",
       "      <th>admit</th>\n",
       "      <th>gre</th>\n",
       "      <th>gpa</th>\n",
       "      <th>rank</th>\n",
       "    </tr>\n",
       "  </thead>\n",
       "  <tbody>\n",
       "    <tr>\n",
       "      <th>0</th>\n",
       "      <td>0</td>\n",
       "      <td>380</td>\n",
       "      <td>3.61</td>\n",
       "      <td>3</td>\n",
       "    </tr>\n",
       "    <tr>\n",
       "      <th>1</th>\n",
       "      <td>1</td>\n",
       "      <td>660</td>\n",
       "      <td>3.67</td>\n",
       "      <td>3</td>\n",
       "    </tr>\n",
       "    <tr>\n",
       "      <th>2</th>\n",
       "      <td>1</td>\n",
       "      <td>800</td>\n",
       "      <td>4.00</td>\n",
       "      <td>1</td>\n",
       "    </tr>\n",
       "    <tr>\n",
       "      <th>3</th>\n",
       "      <td>1</td>\n",
       "      <td>640</td>\n",
       "      <td>3.19</td>\n",
       "      <td>4</td>\n",
       "    </tr>\n",
       "    <tr>\n",
       "      <th>4</th>\n",
       "      <td>0</td>\n",
       "      <td>520</td>\n",
       "      <td>2.93</td>\n",
       "      <td>4</td>\n",
       "    </tr>\n",
       "    <tr>\n",
       "      <th>...</th>\n",
       "      <td>...</td>\n",
       "      <td>...</td>\n",
       "      <td>...</td>\n",
       "      <td>...</td>\n",
       "    </tr>\n",
       "    <tr>\n",
       "      <th>395</th>\n",
       "      <td>0</td>\n",
       "      <td>620</td>\n",
       "      <td>4.00</td>\n",
       "      <td>2</td>\n",
       "    </tr>\n",
       "    <tr>\n",
       "      <th>396</th>\n",
       "      <td>0</td>\n",
       "      <td>560</td>\n",
       "      <td>3.04</td>\n",
       "      <td>3</td>\n",
       "    </tr>\n",
       "    <tr>\n",
       "      <th>397</th>\n",
       "      <td>0</td>\n",
       "      <td>460</td>\n",
       "      <td>2.63</td>\n",
       "      <td>2</td>\n",
       "    </tr>\n",
       "    <tr>\n",
       "      <th>398</th>\n",
       "      <td>0</td>\n",
       "      <td>700</td>\n",
       "      <td>3.65</td>\n",
       "      <td>2</td>\n",
       "    </tr>\n",
       "    <tr>\n",
       "      <th>399</th>\n",
       "      <td>0</td>\n",
       "      <td>600</td>\n",
       "      <td>3.89</td>\n",
       "      <td>3</td>\n",
       "    </tr>\n",
       "  </tbody>\n",
       "</table>\n",
       "<p>400 rows × 4 columns</p>\n",
       "</div>"
      ],
      "text/plain": [
       "     admit  gre   gpa  rank\n",
       "0        0  380  3.61     3\n",
       "1        1  660  3.67     3\n",
       "2        1  800  4.00     1\n",
       "3        1  640  3.19     4\n",
       "4        0  520  2.93     4\n",
       "..     ...  ...   ...   ...\n",
       "395      0  620  4.00     2\n",
       "396      0  560  3.04     3\n",
       "397      0  460  2.63     2\n",
       "398      0  700  3.65     2\n",
       "399      0  600  3.89     3\n",
       "\n",
       "[400 rows x 4 columns]"
      ]
     },
     "execution_count": 2,
     "metadata": {},
     "output_type": "execute_result"
    }
   ],
   "source": [
    "grad = pd.read_csv('data/grad.csv')\n",
    "grad"
   ]
  },
  {
   "cell_type": "code",
   "execution_count": 3,
   "id": "71952995-5fc7-42e5-b3f5-33d98330fe76",
   "metadata": {},
   "outputs": [
    {
     "data": {
      "text/html": [
       "<div>\n",
       "<style scoped>\n",
       "    .dataframe tbody tr th:only-of-type {\n",
       "        vertical-align: middle;\n",
       "    }\n",
       "\n",
       "    .dataframe tbody tr th {\n",
       "        vertical-align: top;\n",
       "    }\n",
       "\n",
       "    .dataframe thead th {\n",
       "        text-align: right;\n",
       "    }\n",
       "</style>\n",
       "<table border=\"1\" class=\"dataframe\">\n",
       "  <thead>\n",
       "    <tr style=\"text-align: right;\">\n",
       "      <th></th>\n",
       "      <th>admit</th>\n",
       "      <th>gre</th>\n",
       "      <th>gpa</th>\n",
       "      <th>rank</th>\n",
       "    </tr>\n",
       "  </thead>\n",
       "  <tbody>\n",
       "    <tr>\n",
       "      <th>count</th>\n",
       "      <td>400.000000</td>\n",
       "      <td>400.000000</td>\n",
       "      <td>400.000000</td>\n",
       "      <td>400.00000</td>\n",
       "    </tr>\n",
       "    <tr>\n",
       "      <th>mean</th>\n",
       "      <td>0.317500</td>\n",
       "      <td>587.700000</td>\n",
       "      <td>3.389900</td>\n",
       "      <td>2.48500</td>\n",
       "    </tr>\n",
       "    <tr>\n",
       "      <th>std</th>\n",
       "      <td>0.466087</td>\n",
       "      <td>115.516536</td>\n",
       "      <td>0.380567</td>\n",
       "      <td>0.94446</td>\n",
       "    </tr>\n",
       "    <tr>\n",
       "      <th>min</th>\n",
       "      <td>0.000000</td>\n",
       "      <td>220.000000</td>\n",
       "      <td>2.260000</td>\n",
       "      <td>1.00000</td>\n",
       "    </tr>\n",
       "    <tr>\n",
       "      <th>25%</th>\n",
       "      <td>0.000000</td>\n",
       "      <td>520.000000</td>\n",
       "      <td>3.130000</td>\n",
       "      <td>2.00000</td>\n",
       "    </tr>\n",
       "    <tr>\n",
       "      <th>50%</th>\n",
       "      <td>0.000000</td>\n",
       "      <td>580.000000</td>\n",
       "      <td>3.395000</td>\n",
       "      <td>2.00000</td>\n",
       "    </tr>\n",
       "    <tr>\n",
       "      <th>75%</th>\n",
       "      <td>1.000000</td>\n",
       "      <td>660.000000</td>\n",
       "      <td>3.670000</td>\n",
       "      <td>3.00000</td>\n",
       "    </tr>\n",
       "    <tr>\n",
       "      <th>max</th>\n",
       "      <td>1.000000</td>\n",
       "      <td>800.000000</td>\n",
       "      <td>4.000000</td>\n",
       "      <td>4.00000</td>\n",
       "    </tr>\n",
       "  </tbody>\n",
       "</table>\n",
       "</div>"
      ],
      "text/plain": [
       "            admit         gre         gpa       rank\n",
       "count  400.000000  400.000000  400.000000  400.00000\n",
       "mean     0.317500  587.700000    3.389900    2.48500\n",
       "std      0.466087  115.516536    0.380567    0.94446\n",
       "min      0.000000  220.000000    2.260000    1.00000\n",
       "25%      0.000000  520.000000    3.130000    2.00000\n",
       "50%      0.000000  580.000000    3.395000    2.00000\n",
       "75%      1.000000  660.000000    3.670000    3.00000\n",
       "max      1.000000  800.000000    4.000000    4.00000"
      ]
     },
     "execution_count": 3,
     "metadata": {},
     "output_type": "execute_result"
    }
   ],
   "source": [
    "grad.describe()"
   ]
  },
  {
   "cell_type": "code",
   "execution_count": 4,
   "id": "80bd7a5e-cdee-428a-8687-109c6e732add",
   "metadata": {},
   "outputs": [
    {
     "data": {
      "image/png": "[encoded data removed]",
      "text/plain": [
       "<Figure size 1440x360 with 4 Axes>"
      ]
     },
     "metadata": {
      "needs_background": "light"
     },
     "output_type": "display_data"
    }
   ],
   "source": [
    "sns.displot(\n",
    "    grad, x=\"admit\", col=\"rank\"\n",
    ");\n",
    "#Rank 1 school have better admit rate"
   ]
  },
  {
   "cell_type": "code",
   "execution_count": 5,
   "id": "37c875cd-8c1c-4d99-a75b-c2864049cc82",
   "metadata": {},
   "outputs": [
    {
     "data": {
      "image/png": "[encoded data removed]",
      "text/plain": [
       "<Figure size 432x288 with 1 Axes>"
      ]
     },
     "metadata": {
      "needs_background": "light"
     },
     "output_type": "display_data"
    }
   ],
   "source": [
    "sns.boxplot(x=\"admit\", y=\"gre\",\n",
    "            data=grad);\n",
    "# People that got admitted had higher GRE scores"
   ]
  },
  {
   "cell_type": "code",
   "execution_count": 6,
   "id": "3488cbf9-2312-4a76-8087-d08e1f1123fc",
   "metadata": {},
   "outputs": [],
   "source": [
    "# PART 2"
   ]
  },
  {
   "cell_type": "code",
   "execution_count": 7,
   "id": "c4f66dd7-d7db-4aef-bd3d-2d07764667b7",
   "metadata": {},
   "outputs": [
    {
     "data": {
      "text/plain": [
       "(     gre   gpa  rank\n",
       " 0    380  3.61     3\n",
       " 1    660  3.67     3\n",
       " 2    800  4.00     1\n",
       " 3    640  3.19     4\n",
       " 4    520  2.93     4\n",
       " ..   ...   ...   ...\n",
       " 395  620  4.00     2\n",
       " 396  560  3.04     3\n",
       " 397  460  2.63     2\n",
       " 398  700  3.65     2\n",
       " 399  600  3.89     3\n",
       " \n",
       " [400 rows x 3 columns],\n",
       " 0      0\n",
       " 1      1\n",
       " 2      1\n",
       " 3      1\n",
       " 4      0\n",
       "       ..\n",
       " 395    0\n",
       " 396    0\n",
       " 397    0\n",
       " 398    0\n",
       " 399    0\n",
       " Name: admit, Length: 400, dtype: int64)"
      ]
     },
     "execution_count": 7,
     "metadata": {},
     "output_type": "execute_result"
    }
   ],
   "source": [
    "X = grad[['gre','gpa','rank']]\n",
    "y = grad['admit']\n",
    "X,y"
   ]
  },
  {
   "cell_type": "code",
   "execution_count": 8,
   "id": "a75ee9a9-5b11-45a0-9208-ca35de46236e",
   "metadata": {},
   "outputs": [],
   "source": [
    "X_train, X_test, y_train, y_test = train_test_split(X,y)"
   ]
  },
  {
   "cell_type": "code",
   "execution_count": 9,
   "id": "7c5fa4d7-e3e9-4c09-b73a-f55485dfaa29",
   "metadata": {},
   "outputs": [],
   "source": [
    "def cv(X_kf, y_kf, base_estimator, n_folds, random_seed=154):\n",
    "    kf = KFold(n_splits=n_folds, random_state=random_seed, shuffle=True)\n",
    "    accuracy, precision, recall = np.empty(n_folds), np.empty(n_folds), np.empty(n_folds)\n",
    "    cv_metrics_test = pd.DataFrame(np.empty(shape=(n_folds, 3)),\n",
    "                                        columns=['Accuracy','Precision','Recall'])\n",
    "    for idx, (train, test) in enumerate(kf.split(X_kf)):\n",
    "        X_tr = X_kf.iloc[train]\n",
    "        y_tr = y_kf.iloc[train]\n",
    "        X_te = X_kf.iloc[test]\n",
    "        y_te = y_kf.iloc[test]\n",
    "        \n",
    "        #scalar = StandardScaler()\n",
    "        #scalar.fit(X_tr)\n",
    "        #X_tr = scalar.transform(X_tr)\n",
    "        #X_te = scalar.transform(X_te)\n",
    "        \n",
    "        estimator = clone(base_estimator)\n",
    "        model = estimator\n",
    "        model.fit(X_tr,y_tr)\n",
    "\n",
    "        y_hat_test = model.predict(X_te)\n",
    "        #y_hat_train = model.predict(X_tr)\n",
    "        \n",
    "        accuracy[idx] = metrics.accuracy_score(y_te, y_hat_test)\n",
    "        precision[idx] = metrics.precision_score(y_te, y_hat_test)\n",
    "        recall[idx] = metrics.recall_score(y_te, y_hat_test)\n",
    "        \n",
    "    cv_metrics_test['Accuracy'] = accuracy\n",
    "    cv_metrics_test['Precision'] = precision\n",
    "    cv_metrics_test['Recall'] = recall\n",
    "    return cv_metrics_test"
   ]
  },
  {
   "cell_type": "code",
   "execution_count": 10,
   "id": "105e7dc8-7a0b-4bb6-81ac-210e61529361",
   "metadata": {},
   "outputs": [
    {
     "data": {
      "text/html": [
       "<div>\n",
       "<style scoped>\n",
       "    .dataframe tbody tr th:only-of-type {\n",
       "        vertical-align: middle;\n",
       "    }\n",
       "\n",
       "    .dataframe tbody tr th {\n",
       "        vertical-align: top;\n",
       "    }\n",
       "\n",
       "    .dataframe thead th {\n",
       "        text-align: right;\n",
       "    }\n",
       "</style>\n",
       "<table border=\"1\" class=\"dataframe\">\n",
       "  <thead>\n",
       "    <tr style=\"text-align: right;\">\n",
       "      <th></th>\n",
       "      <th>Accuracy</th>\n",
       "      <th>Precision</th>\n",
       "      <th>Recall</th>\n",
       "    </tr>\n",
       "  </thead>\n",
       "  <tbody>\n",
       "    <tr>\n",
       "      <th>0</th>\n",
       "      <td>0.600000</td>\n",
       "      <td>0.363636</td>\n",
       "      <td>0.190476</td>\n",
       "    </tr>\n",
       "    <tr>\n",
       "      <th>1</th>\n",
       "      <td>0.700000</td>\n",
       "      <td>1.000000</td>\n",
       "      <td>0.052632</td>\n",
       "    </tr>\n",
       "    <tr>\n",
       "      <th>2</th>\n",
       "      <td>0.716667</td>\n",
       "      <td>0.714286</td>\n",
       "      <td>0.250000</td>\n",
       "    </tr>\n",
       "    <tr>\n",
       "      <th>3</th>\n",
       "      <td>0.766667</td>\n",
       "      <td>0.400000</td>\n",
       "      <td>0.333333</td>\n",
       "    </tr>\n",
       "    <tr>\n",
       "      <th>4</th>\n",
       "      <td>0.716667</td>\n",
       "      <td>0.800000</td>\n",
       "      <td>0.200000</td>\n",
       "    </tr>\n",
       "  </tbody>\n",
       "</table>\n",
       "</div>"
      ],
      "text/plain": [
       "   Accuracy  Precision    Recall\n",
       "0  0.600000   0.363636  0.190476\n",
       "1  0.700000   1.000000  0.052632\n",
       "2  0.716667   0.714286  0.250000\n",
       "3  0.766667   0.400000  0.333333\n",
       "4  0.716667   0.800000  0.200000"
      ]
     },
     "execution_count": 10,
     "metadata": {},
     "output_type": "execute_result"
    }
   ],
   "source": [
    "cv(X_train,y_train,LogisticRegression(max_iter=1000),5)"
   ]
  },
  {
   "cell_type": "code",
   "execution_count": 11,
   "id": "eac26b76-6883-4683-a44a-cc1d4af2cb18",
   "metadata": {},
   "outputs": [
    {
     "data": {
      "text/html": [
       "<div>\n",
       "<style scoped>\n",
       "    .dataframe tbody tr th:only-of-type {\n",
       "        vertical-align: middle;\n",
       "    }\n",
       "\n",
       "    .dataframe tbody tr th {\n",
       "        vertical-align: top;\n",
       "    }\n",
       "\n",
       "    .dataframe thead th {\n",
       "        text-align: right;\n",
       "    }\n",
       "</style>\n",
       "<table border=\"1\" class=\"dataframe\">\n",
       "  <thead>\n",
       "    <tr style=\"text-align: right;\">\n",
       "      <th></th>\n",
       "      <th>admit</th>\n",
       "      <th>gre</th>\n",
       "      <th>gpa</th>\n",
       "      <th>rank</th>\n",
       "    </tr>\n",
       "  </thead>\n",
       "  <tbody>\n",
       "    <tr>\n",
       "      <th>0</th>\n",
       "      <td>0</td>\n",
       "      <td>380</td>\n",
       "      <td>3.61</td>\n",
       "      <td>3</td>\n",
       "    </tr>\n",
       "    <tr>\n",
       "      <th>1</th>\n",
       "      <td>1</td>\n",
       "      <td>660</td>\n",
       "      <td>3.67</td>\n",
       "      <td>3</td>\n",
       "    </tr>\n",
       "    <tr>\n",
       "      <th>2</th>\n",
       "      <td>1</td>\n",
       "      <td>800</td>\n",
       "      <td>4.00</td>\n",
       "      <td>1</td>\n",
       "    </tr>\n",
       "    <tr>\n",
       "      <th>3</th>\n",
       "      <td>1</td>\n",
       "      <td>640</td>\n",
       "      <td>3.19</td>\n",
       "      <td>4</td>\n",
       "    </tr>\n",
       "    <tr>\n",
       "      <th>4</th>\n",
       "      <td>0</td>\n",
       "      <td>520</td>\n",
       "      <td>2.93</td>\n",
       "      <td>4</td>\n",
       "    </tr>\n",
       "  </tbody>\n",
       "</table>\n",
       "</div>"
      ],
      "text/plain": [
       "   admit  gre   gpa  rank\n",
       "0      0  380  3.61     3\n",
       "1      1  660  3.67     3\n",
       "2      1  800  4.00     1\n",
       "3      1  640  3.19     4\n",
       "4      0  520  2.93     4"
      ]
     },
     "execution_count": 11,
     "metadata": {},
     "output_type": "execute_result"
    }
   ],
   "source": [
    "grad.head()"
   ]
  },
  {
   "cell_type": "code",
   "execution_count": 12,
   "id": "f00ebea1-b0f9-4d8f-9361-09351e894117",
   "metadata": {},
   "outputs": [
    {
     "data": {
      "text/html": [
       "<div>\n",
       "<style scoped>\n",
       "    .dataframe tbody tr th:only-of-type {\n",
       "        vertical-align: middle;\n",
       "    }\n",
       "\n",
       "    .dataframe tbody tr th {\n",
       "        vertical-align: top;\n",
       "    }\n",
       "\n",
       "    .dataframe thead th {\n",
       "        text-align: right;\n",
       "    }\n",
       "</style>\n",
       "<table border=\"1\" class=\"dataframe\">\n",
       "  <thead>\n",
       "    <tr style=\"text-align: right;\">\n",
       "      <th></th>\n",
       "      <th>admit</th>\n",
       "      <th>gre</th>\n",
       "      <th>gpa</th>\n",
       "      <th>1</th>\n",
       "      <th>2</th>\n",
       "      <th>3</th>\n",
       "    </tr>\n",
       "  </thead>\n",
       "  <tbody>\n",
       "    <tr>\n",
       "      <th>0</th>\n",
       "      <td>0</td>\n",
       "      <td>380</td>\n",
       "      <td>3.61</td>\n",
       "      <td>0</td>\n",
       "      <td>0</td>\n",
       "      <td>1</td>\n",
       "    </tr>\n",
       "    <tr>\n",
       "      <th>1</th>\n",
       "      <td>1</td>\n",
       "      <td>660</td>\n",
       "      <td>3.67</td>\n",
       "      <td>0</td>\n",
       "      <td>0</td>\n",
       "      <td>1</td>\n",
       "    </tr>\n",
       "    <tr>\n",
       "      <th>2</th>\n",
       "      <td>1</td>\n",
       "      <td>800</td>\n",
       "      <td>4.00</td>\n",
       "      <td>1</td>\n",
       "      <td>0</td>\n",
       "      <td>0</td>\n",
       "    </tr>\n",
       "    <tr>\n",
       "      <th>3</th>\n",
       "      <td>1</td>\n",
       "      <td>640</td>\n",
       "      <td>3.19</td>\n",
       "      <td>0</td>\n",
       "      <td>0</td>\n",
       "      <td>0</td>\n",
       "    </tr>\n",
       "    <tr>\n",
       "      <th>4</th>\n",
       "      <td>0</td>\n",
       "      <td>520</td>\n",
       "      <td>2.93</td>\n",
       "      <td>0</td>\n",
       "      <td>0</td>\n",
       "      <td>0</td>\n",
       "    </tr>\n",
       "  </tbody>\n",
       "</table>\n",
       "</div>"
      ],
      "text/plain": [
       "   admit  gre   gpa  1  2  3\n",
       "0      0  380  3.61  0  0  1\n",
       "1      1  660  3.67  0  0  1\n",
       "2      1  800  4.00  1  0  0\n",
       "3      1  640  3.19  0  0  0\n",
       "4      0  520  2.93  0  0  0"
      ]
     },
     "execution_count": 12,
     "metadata": {},
     "output_type": "execute_result"
    }
   ],
   "source": [
    "rank = pd.get_dummies(grad['rank'])\n",
    "new_grad = pd.concat([grad, rank], axis=1)\n",
    "new_grad = new_grad.drop('rank', axis=1)\n",
    "new_grad = new_grad.drop(4, axis=1)\n",
    "new_grad.head()"
   ]
  },
  {
   "cell_type": "code",
   "execution_count": 13,
   "id": "3aa192bb-5fcc-4954-aaa4-35359806348c",
   "metadata": {},
   "outputs": [
    {
     "data": {
      "text/plain": [
       "(     gre   gpa  1  2  3\n",
       " 0    380  3.61  0  0  1\n",
       " 1    660  3.67  0  0  1\n",
       " 2    800  4.00  1  0  0\n",
       " 3    640  3.19  0  0  0\n",
       " 4    520  2.93  0  0  0\n",
       " ..   ...   ... .. .. ..\n",
       " 395  620  4.00  0  1  0\n",
       " 396  560  3.04  0  0  1\n",
       " 397  460  2.63  0  1  0\n",
       " 398  700  3.65  0  1  0\n",
       " 399  600  3.89  0  0  1\n",
       " \n",
       " [400 rows x 5 columns],\n",
       " 0      0\n",
       " 1      1\n",
       " 2      1\n",
       " 3      1\n",
       " 4      0\n",
       "       ..\n",
       " 395    0\n",
       " 396    0\n",
       " 397    0\n",
       " 398    0\n",
       " 399    0\n",
       " Name: admit, Length: 400, dtype: int64)"
      ]
     },
     "execution_count": 13,
     "metadata": {},
     "output_type": "execute_result"
    }
   ],
   "source": [
    "X_new = new_grad[['gre','gpa',1,2,3]]\n",
    "y_new = new_grad['admit']\n",
    "X_new,y_new"
   ]
  },
  {
   "cell_type": "code",
   "execution_count": 14,
   "id": "79b5eb4f-da72-4319-a512-024b3d8bdd09",
   "metadata": {},
   "outputs": [],
   "source": [
    "X_train_bin, X_test_bin, y_train_bin, y_test_bin = train_test_split(X_new,y_new)"
   ]
  },
  {
   "cell_type": "code",
   "execution_count": 15,
   "id": "544dcdaf-8ac7-45b4-aa17-e192844a15d1",
   "metadata": {},
   "outputs": [
    {
     "data": {
      "text/plain": [
       "Accuracy     0.716667\n",
       "Precision    0.502381\n",
       "Recall       0.151505\n",
       "dtype: float64"
      ]
     },
     "execution_count": 15,
     "metadata": {},
     "output_type": "execute_result"
    }
   ],
   "source": [
    "cv(X_train_bin,y_train_bin,LogisticRegression(max_iter=1000),5).mean()"
   ]
  },
  {
   "cell_type": "code",
   "execution_count": 16,
   "id": "e71fc944-e402-442c-ba29-cb6dbff2b480",
   "metadata": {},
   "outputs": [
    {
     "data": {
      "text/plain": [
       "Accuracy     0.700000\n",
       "Precision    0.655584\n",
       "Recall       0.205288\n",
       "dtype: float64"
      ]
     },
     "execution_count": 16,
     "metadata": {},
     "output_type": "execute_result"
    }
   ],
   "source": [
    "cv(X_train,y_train,LogisticRegression(max_iter=1000),5).mean()"
   ]
  },
  {
   "cell_type": "code",
   "execution_count": 17,
   "id": "cbb48f61-80b1-4511-b0f4-62099e177491",
   "metadata": {},
   "outputs": [
    {
     "data": {
      "text/plain": [
       "LogisticRegression(max_iter=1000)"
      ]
     },
     "execution_count": 17,
     "metadata": {},
     "output_type": "execute_result"
    }
   ],
   "source": [
    "model = LogisticRegression(max_iter=1000)\n",
    "model.fit(X_train,y_train)"
   ]
  },
  {
   "cell_type": "code",
   "execution_count": 18,
   "id": "57858a0d-3ca5-4ffc-b32a-0bdd8ee6df86",
   "metadata": {},
   "outputs": [
    {
     "data": {
      "text/plain": [
       "array([0.31768366, 0.35288396, 0.26492095, 0.43452957, 0.16126885,\n",
       "       0.21401989, 0.12425159, 0.11736007, 0.10761273, 0.240003  ,\n",
       "       0.5150656 , 0.33172334, 0.44843764, 0.11707668, 0.21917823,\n",
       "       0.16948981, 0.32804628, 0.14491742, 0.35657782, 0.19382402,\n",
       "       0.1421182 , 0.29991182, 0.28572479, 0.48697905, 0.30396396,\n",
       "       0.18630699, 0.15378394, 0.40660629, 0.37653001, 0.24368645,\n",
       "       0.28867474, 0.15256801, 0.33062417, 0.38413652, 0.15561056,\n",
       "       0.62078811, 0.17713623, 0.10372575, 0.32254393, 0.32836234,\n",
       "       0.32156876, 0.1867867 , 0.38732876, 0.11936627, 0.49828447,\n",
       "       0.29438797, 0.40391278, 0.34739275, 0.38859441, 0.33991815,\n",
       "       0.17195931, 0.20555322, 0.57932241, 0.37138797, 0.36256683,\n",
       "       0.56760688, 0.2026511 , 0.07706369, 0.10125404, 0.26876848,\n",
       "       0.33690179, 0.35022331, 0.19404811, 0.35145403, 0.32618927,\n",
       "       0.55216387, 0.21095653, 0.2109474 , 0.31982696, 0.15583771,\n",
       "       0.27000206, 0.44334697, 0.34122665, 0.27919839, 0.43322031,\n",
       "       0.33412353, 0.49493485, 0.30805074, 0.36555414, 0.23951381,\n",
       "       0.33770706, 0.39637772, 0.3181659 , 0.20193037, 0.42573544,\n",
       "       0.54961272, 0.18570586, 0.42563213, 0.42837981, 0.28036138,\n",
       "       0.20135043, 0.30405733, 0.31893602, 0.27489857, 0.23257704,\n",
       "       0.53450281, 0.18720305, 0.23018104, 0.32974609, 0.32895037])"
      ]
     },
     "execution_count": 18,
     "metadata": {},
     "output_type": "execute_result"
    }
   ],
   "source": [
    "model.predict_proba(X_test)[:,1]"
   ]
  },
  {
   "cell_type": "code",
   "execution_count": 19,
   "id": "f38a1f2b-13d2-453d-93cd-9f343bee5c00",
   "metadata": {},
   "outputs": [],
   "source": [
    "fpr, tpr, thresholds = metrics.roc_curve(y_test, model.predict_proba(X_test)[:,1])"
   ]
  },
  {
   "cell_type": "code",
   "execution_count": 20,
   "id": "cb6a8253-aac3-4b60-8b6c-d71b602b1d5e",
   "metadata": {},
   "outputs": [
    {
     "data": {
      "text/plain": [
       "0.6865934065934065"
      ]
     },
     "execution_count": 20,
     "metadata": {},
     "output_type": "execute_result"
    }
   ],
   "source": [
    "metrics.auc(fpr, tpr)"
   ]
  },
  {
   "cell_type": "code",
   "execution_count": 21,
   "id": "70f95e61-0ef0-42cd-94ba-6b904cf5428b",
   "metadata": {},
   "outputs": [
    {
     "data": {
      "image/png": "[encoded data removed]",
      "text/plain": [
       "<Figure size 720x720 with 1 Axes>"
      ]
     },
     "metadata": {
      "needs_background": "light"
     },
     "output_type": "display_data"
    }
   ],
   "source": [
    "fig, ax = plt.subplots(figsize=(10,10))\n",
    "ax.plot(fpr,tpr)\n",
    "ax.text(0,0.95,f'AUC:{round(metrics.auc(fpr, tpr),3)}',fontsize=22, color='red')\n",
    "ax.set_xlabel('FPR (False Positive Rate)')\n",
    "ax.set_ylabel('TPR (True Positive Rate)')\n",
    "ax.set_title('ROC Curve')\n",
    "for i,(x,y,th) in enumerate(zip(fpr,tpr,thresholds)):\n",
    "    if (i%2 == 0):\n",
    "        ax.text(x-0.05,y+0.01,round(th,2),bbox={'facecolor':'yellow'})  "
   ]
  },
  {
   "cell_type": "code",
   "execution_count": 22,
   "id": "fa5ef1b7-2ef7-424a-aae2-7cb9e9cfba7e",
   "metadata": {},
   "outputs": [
    {
     "name": "stdout",
     "output_type": "stream",
     "text": [
      "yes:  0.3297460873587014\n",
      "yes:  0.3289503727259705\n",
      "yes:  0.32836233517875296\n",
      "yes:  0.3280462750058805\n",
      "yes:  0.3225439337256541\n",
      "yes:  0.31816589997022005\n",
      "yes:  0.31768366394368114\n"
     ]
    }
   ],
   "source": [
    "for i,(f,t,th) in enumerate(zip(fpr,tpr,thresholds)):\n",
    "    if (f<0.4) and (t>=0.6):\n",
    "        print('yes: ',th)"
   ]
  },
  {
   "cell_type": "code",
   "execution_count": 25,
   "id": "c77a96f8-3700-42d3-bd66-0ca898bce181",
   "metadata": {},
   "outputs": [],
   "source": [
    "# DIFFERENT METHOD\n",
    " #metrics.plot_roc_curve(model, X_test_bin, y_test_bin);"
   ]
  },
  {
   "cell_type": "code",
   "execution_count": null,
   "id": "011578be-b7e0-445c-82d5-1b5ade22ee68",
   "metadata": {},
   "outputs": [],
   "source": [
    "# PART 3"
   ]
  },
  {
   "cell_type": "code",
   "execution_count": 58,
   "id": "a76d45bc-c4ee-415f-b1dd-1208e6cd5533",
   "metadata": {},
   "outputs": [],
   "source": [
    "from sklearn.datasets import make_classification\n",
    "from sklearn.linear_model import LogisticRegression\n",
    "import matplotlib.pyplot as plt\n",
    "from sklearn.model_selection import train_test_split\n",
    "from src.roc_curve import roc_curve\n",
    "#from roc_curve import roc_curve"
   ]
  },
  {
   "cell_type": "code",
   "execution_count": 54,
   "id": "8c9f3224-b43a-47a7-bd74-1cbdbd80073d",
   "metadata": {},
   "outputs": [],
   "source": [
    "X, y = make_classification(n_features=2, n_redundant=0, n_informative=2,\n",
    "                           n_clusters_per_class=2, n_samples=1000)\n",
    "X_train, X_test, y_train, y_test = train_test_split(X, y)"
   ]
  },
  {
   "cell_type": "code",
   "execution_count": 56,
   "id": "b4000d34-9721-4e23-b2f2-2818dd20bce9",
   "metadata": {},
   "outputs": [
    {
     "data": {
      "text/plain": [
       "LogisticRegression()"
      ]
     },
     "execution_count": 56,
     "metadata": {},
     "output_type": "execute_result"
    }
   ],
   "source": [
    "lr = LogisticRegression()\n",
    "lr.fit(X_train, y_train)"
   ]
  },
  {
   "cell_type": "code",
   "execution_count": 57,
   "id": "e8af47e6-2b21-4da0-9dba-5199e00901f7",
   "metadata": {},
   "outputs": [],
   "source": [
    "\n",
    "y_pred=lr.predict_proba(X_test)[:, 1]"
   ]
  },
  {
   "cell_type": "code",
   "execution_count": 59,
   "id": "f1faecc9-bb8d-44c8-af32-8bc72d6bbc7b",
   "metadata": {},
   "outputs": [],
   "source": [
    "from sklearn.metrics import accuracy_score,r2_score,f1_score,roc_auc_score,roc_curve,mean_squared_error,precision_score,recall_score,accuracy_score,make_scorer"
   ]
  },
  {
   "cell_type": "code",
   "execution_count": 60,
   "id": "a06c5317-2331-43ce-95b9-ab88afb621d6",
   "metadata": {},
   "outputs": [
    {
     "data": {
      "text/plain": [
       "array([4.61710091e-01, 1.00363204e-01, 3.76937817e-01, 9.97570172e-01,\n",
       "       8.96414701e-01, 8.12280345e-02, 9.00362751e-01, 9.42769735e-01,\n",
       "       9.67876988e-01, 6.12546669e-01, 8.72124370e-01, 9.76448861e-01,\n",
       "       1.75823092e-01, 1.31000730e-02, 3.75339519e-03, 8.92592913e-01,\n",
       "       9.44997830e-01, 9.54459072e-01, 7.08766989e-01, 9.33188923e-01,\n",
       "       7.71501870e-01, 8.19625828e-01, 9.66948807e-05, 4.05748617e-01,\n",
       "       2.85586940e-02, 8.62015119e-01, 1.10853092e-01, 8.42412752e-01,\n",
       "       2.55455732e-02, 2.59958671e-03, 3.44022641e-01, 8.29018030e-01,\n",
       "       5.12470370e-01, 4.88561821e-02, 9.91493607e-01, 9.76471542e-01,\n",
       "       7.59343851e-01, 6.77605644e-01, 9.51425421e-01, 9.72632252e-01,\n",
       "       4.31168719e-01, 3.20949340e-01, 2.20958885e-02, 8.65346928e-01,\n",
       "       4.65291321e-01, 8.02161493e-01, 1.69222274e-02, 3.69053136e-02,\n",
       "       9.61179411e-01, 8.59910917e-01, 9.50683533e-04, 8.52926434e-01,\n",
       "       9.63841026e-01, 4.80488770e-04, 1.04311409e-02, 6.11541266e-01,\n",
       "       9.03796719e-04, 9.80709704e-01, 8.48606092e-01, 7.73414753e-01,\n",
       "       3.98002122e-02, 2.99948515e-01, 3.50571453e-01, 9.96586233e-01,\n",
       "       9.77679978e-01, 1.96065540e-01, 1.34568038e-01, 9.52507557e-01,\n",
       "       5.48336397e-01, 9.85531007e-01, 8.74175993e-03, 6.66205547e-01,\n",
       "       9.87069268e-01, 4.08312712e-01, 8.45961079e-01, 2.60922963e-01,\n",
       "       5.01959941e-01, 1.21761769e-02, 8.61777230e-03, 6.34992117e-01,\n",
       "       4.19215254e-01, 2.08249947e-01, 1.18927027e-02, 9.99788170e-01,\n",
       "       9.23165104e-01, 1.43539111e-03, 6.86093422e-03, 8.34705063e-01,\n",
       "       9.17411419e-01, 8.17271660e-02, 5.73255622e-03, 1.17534918e-01,\n",
       "       4.10275592e-02, 1.15937919e-03, 8.69335910e-01, 7.88381380e-01,\n",
       "       2.94362579e-01, 5.33438733e-01, 6.23537921e-01, 9.10434991e-01,\n",
       "       9.82305491e-01, 7.78848790e-01, 9.48566440e-01, 9.33893749e-01,\n",
       "       9.99314924e-01, 8.48166375e-04, 6.60669788e-03, 9.46862968e-01,\n",
       "       6.22627241e-03, 3.87380242e-03, 9.74019191e-01, 2.27194871e-01,\n",
       "       2.32756331e-01, 1.17183548e-02, 8.89631867e-01, 4.73201473e-01,\n",
       "       8.94845447e-02, 9.85169739e-01, 9.69121793e-01, 9.59824587e-01,\n",
       "       9.90409049e-02, 3.33089652e-03, 3.33025575e-01, 4.87366156e-01,\n",
       "       2.00007657e-02, 1.47592667e-03, 9.71055507e-01, 9.90217268e-01,\n",
       "       6.73044113e-03, 9.10659208e-01, 5.88596067e-01, 8.68762036e-01,\n",
       "       2.16796995e-03, 9.02002306e-01, 9.96713212e-01, 8.52913702e-01,\n",
       "       3.40737092e-03, 3.80086737e-01, 6.49894458e-01, 9.99558810e-01,\n",
       "       9.42084863e-01, 1.47508698e-02, 4.45329611e-01, 9.44510815e-01,\n",
       "       8.97973942e-01, 2.09317273e-01, 9.67922748e-01, 9.46303652e-01,\n",
       "       9.82536657e-01, 8.62472865e-01, 1.49487371e-02, 8.84632184e-01,\n",
       "       9.17219656e-01, 1.06145910e-02, 2.57459942e-02, 1.03165652e-01,\n",
       "       1.70297430e-02, 9.45363525e-01, 8.62199528e-01, 1.70734178e-01,\n",
       "       1.92950375e-01, 8.89093555e-01, 9.07689196e-01, 4.93023572e-02,\n",
       "       9.79415143e-01, 9.76142226e-01, 9.72507747e-01, 2.38674575e-01,\n",
       "       6.85208642e-03, 9.08358923e-01, 4.35162222e-03, 2.67535439e-01,\n",
       "       2.60147634e-01, 9.98430391e-01, 1.15063926e-01, 5.94213737e-01,\n",
       "       6.49892006e-02, 9.55884602e-01, 2.64210332e-01, 2.59015763e-01,\n",
       "       3.38950175e-03, 4.34659120e-01, 4.18857697e-02, 6.71341955e-01,\n",
       "       4.95165533e-01, 4.13452394e-01, 8.61617649e-01, 6.43943568e-01,\n",
       "       9.59072996e-01, 9.07942963e-01, 9.60361949e-01, 4.97590181e-01,\n",
       "       2.25673038e-01, 5.49494804e-04, 8.47022115e-02, 3.77014041e-01,\n",
       "       1.87958435e-02, 9.43078975e-01, 3.47397041e-02, 8.02981107e-01,\n",
       "       7.68164373e-01, 9.03394685e-01, 2.17292336e-02, 9.94131591e-01,\n",
       "       9.50155775e-01, 7.85318088e-01, 9.28718125e-01, 8.81981669e-01,\n",
       "       3.41691403e-03, 7.45100222e-01, 9.94370012e-01, 1.77423065e-01,\n",
       "       4.84726487e-01, 2.80360009e-01, 9.44557239e-01, 8.87773340e-01,\n",
       "       5.36387120e-01, 2.06672738e-03, 1.04872425e-01, 9.62065236e-01,\n",
       "       5.20358331e-01, 9.03405563e-01, 1.07882959e-01, 7.70697988e-01,\n",
       "       2.43306910e-02, 6.90163588e-03, 8.91850461e-01, 9.39162851e-01,\n",
       "       9.53790357e-01, 1.92644402e-02, 1.77048755e-02, 2.82349057e-03,\n",
       "       9.98007265e-01, 1.24800196e-01, 9.08227628e-02, 1.31372049e-01,\n",
       "       3.22738974e-01, 1.06592778e-01, 8.26362546e-02, 6.55153412e-01,\n",
       "       1.12794147e-01, 7.63036419e-01, 9.00403887e-04, 5.13574722e-01,\n",
       "       6.91092341e-04, 8.48455315e-01, 9.38967846e-01, 9.53310371e-01,\n",
       "       1.54635222e-02, 4.63678912e-01])"
      ]
     },
     "execution_count": 60,
     "metadata": {},
     "output_type": "execute_result"
    }
   ],
   "source": [
    "y_pred"
   ]
  },
  {
   "cell_type": "code",
   "execution_count": null,
   "id": "a45150ba-2721-4b7d-890c-d12c17b0ff3e",
   "metadata": {},
   "outputs": [],
   "source": []
  },
  {
   "cell_type": "code",
   "execution_count": 61,
   "id": "ee39c108-378b-44d7-9f54-2fc953a4d57c",
   "metadata": {},
   "outputs": [
    {
     "data": {
      "image/png": "[encoded data removed]",
      "text/plain": [
       "<Figure size 432x288 with 1 Axes>"
      ]
     },
     "metadata": {
      "needs_background": "light"
     },
     "output_type": "display_data"
    }
   ],
   "source": [
    "fpr, tpr, thr = roc_curve(y_test,y_pred)\n",
    "\n",
    "plt.plot(fpr, tpr)\n",
    "plt.xlabel(\"False Positive Rate (1 - Specificity)\")\n",
    "plt.ylabel(\"True Positive Rate (Sensitivity, Recall)\")\n",
    "plt.title(\"ROC plot of fake data\")\n",
    "plt.show()"
   ]
  },
  {
   "cell_type": "code",
   "execution_count": 67,
   "id": "cd24e8cd-ec3b-4d73-91ed-d124b219f121",
   "metadata": {},
   "outputs": [],
   "source": [
    "df = pd.read_csv('data/loanf.csv')\n",
    "y_rate = (df['Interest.Rate'] <= 12).values\n",
    "X_rate = df[['FICO.Score', 'Loan.Length', 'Loan.Amount']].values"
   ]
  },
  {
   "cell_type": "code",
   "execution_count": 68,
   "id": "b4bd9980-08a1-4b23-b892-0cb563ed395f",
   "metadata": {},
   "outputs": [
    {
     "data": {
      "text/plain": [
       "(array([[  670,    36,  6000],\n",
       "        [  670,    36,  2000],\n",
       "        [  665,    36, 10625],\n",
       "        ...,\n",
       "        [  810,    36, 27000],\n",
       "        [  765,    36, 25000],\n",
       "        [  740,    60, 16000]], dtype=int64),\n",
       " array([False, False, False, ...,  True,  True, False]))"
      ]
     },
     "execution_count": 68,
     "metadata": {},
     "output_type": "execute_result"
    }
   ],
   "source": [
    "X_rate,y_rate"
   ]
  },
  {
   "cell_type": "code",
   "execution_count": 69,
   "id": "a282996e-9b4a-4230-846a-a375797f9c43",
   "metadata": {},
   "outputs": [],
   "source": [
    "X_train_rate, X_test_rate, y_train_rate, y_test_rate = train_test_split(X_rate,y_rate)"
   ]
  },
  {
   "cell_type": "code",
   "execution_count": 71,
   "id": "f295564c-dd55-4926-90c5-75c827e2af79",
   "metadata": {},
   "outputs": [
    {
     "data": {
      "text/plain": [
       "LogisticRegression(max_iter=1000)"
      ]
     },
     "execution_count": 71,
     "metadata": {},
     "output_type": "execute_result"
    }
   ],
   "source": [
    "lr_rate = LogisticRegression(max_iter=1000)\n",
    "lr_rate.fit(X_train_rate,y_train_rate)"
   ]
  },
  {
   "cell_type": "code",
   "execution_count": 72,
   "id": "fa906777-7cba-48c8-8201-315391ccc687",
   "metadata": {},
   "outputs": [],
   "source": [
    "y_pred_rate = lr_rate.predict_proba(X_test_rate)[:, 1]"
   ]
  },
  {
   "cell_type": "code",
   "execution_count": 73,
   "id": "d396bce2-9f02-4b95-a141-902cc9eb8ce1",
   "metadata": {},
   "outputs": [
    {
     "data": {
      "text/plain": [
       "array([0.51245011, 0.52157943, 0.05901283, 0.09310033, 0.05776724,\n",
       "       0.49659366, 0.52703222, 0.5420183 , 0.47893454, 0.05862091,\n",
       "       0.0638012 , 0.50781469, 0.47417317, 0.47848225, 0.52883902,\n",
       "       0.60709106, 0.44076449, 0.50452302, 0.0816078 , 0.47848225,\n",
       "       0.49376904, 0.59466287, 0.5457488 , 0.44502691, 0.53022189,\n",
       "       0.5541876 , 0.43355267, 0.4287532 , 0.46986794, 0.42045758,\n",
       "       0.50349649, 0.425351  , 0.13973546, 0.41625398, 0.0672975 ,\n",
       "       0.04571058, 0.55121213, 0.5099734 , 0.4272002 , 0.48969213,\n",
       "       0.06698883, 0.57876738, 0.50078479, 0.59841172, 0.50781469,\n",
       "       0.5051954 , 0.3744137 , 0.58757868, 0.55803257, 0.1120933 ,\n",
       "       0.44929744, 0.51796018, 0.54410538, 0.46377787, 0.45007535,\n",
       "       0.5622888 , 0.51039798, 0.13963337, 0.49272845, 0.49227544,\n",
       "       0.47223175, 0.05958153, 0.05208302, 0.5056557 , 0.10196384,\n",
       "       0.48002296, 0.49872465, 0.52160774, 0.61160769, 0.39400868,\n",
       "       0.63154166, 0.62188911, 0.09670745, 0.1143538 , 0.08343016,\n",
       "       0.07300073, 0.60048568, 0.63005107, 0.43456142, 0.61854709,\n",
       "       0.56441352, 0.39844624, 0.5237061 , 0.46683564, 0.55481717,\n",
       "       0.51074475, 0.46644821, 0.54819771, 0.47848225, 0.50866398,\n",
       "       0.3597753 , 0.08396228, 0.52749812, 0.05665223, 0.32216252,\n",
       "       0.65711053, 0.0628521 , 0.57403091, 0.05912302, 0.60749626,\n",
       "       0.47590348, 0.44034573, 0.5038434 , 0.0850247 , 0.61610523,\n",
       "       0.52376268, 0.49909993, 0.48859516, 0.08664914, 0.59067716,\n",
       "       0.5878395 , 0.08032238, 0.53536791, 0.56673057, 0.03939323,\n",
       "       0.06710575, 0.57455014, 0.39380586, 0.56102677, 0.04739476,\n",
       "       0.55621577, 0.5541876 , 0.45013837, 0.06697646, 0.34051138,\n",
       "       0.55673995, 0.47459681, 0.38599148, 0.47679354, 0.54139249,\n",
       "       0.07584858, 0.43355267, 0.57707488, 0.13313012, 0.51032018,\n",
       "       0.52849324, 0.50218666, 0.62424359, 0.12817698, 0.55597807,\n",
       "       0.07469937, 0.42214924, 0.46771696, 0.49182244, 0.63749822,\n",
       "       0.48548216, 0.55673995, 0.4669768 , 0.62464204, 0.54741216,\n",
       "       0.55292794, 0.62221537, 0.42087165, 0.56517225, 0.61708941,\n",
       "       0.57910566, 0.51987609, 0.41123952, 0.53448021, 0.56802347,\n",
       "       0.06846036, 0.34130688, 0.07300073, 0.48606935, 0.50908861,\n",
       "       0.07206719, 0.13348675, 0.47159662, 0.53955683, 0.51687125,\n",
       "       0.59841172, 0.0961154 , 0.51598709, 0.39296099, 0.54437237,\n",
       "       0.51945199, 0.07880843, 0.34673899, 0.42045758, 0.5588077 ,\n",
       "       0.06618446, 0.54563632, 0.53175933, 0.51471402, 0.54883602,\n",
       "       0.64882616, 0.48904805, 0.65223198, 0.43821819, 0.07024238,\n",
       "       0.04540887, 0.05564668, 0.63510611, 0.08915572, 0.38861243,\n",
       "       0.38869988, 0.5635429 , 0.06061327, 0.55094584, 0.49333018,\n",
       "       0.55405463, 0.09604895, 0.51987609, 0.58696095, 0.51814397,\n",
       "       0.60543478, 0.49854063, 0.47521128, 0.50220084, 0.57236121,\n",
       "       0.55345288, 0.55761349, 0.5060804 , 0.51902786, 0.50346089,\n",
       "       0.12574435, 0.59715194, 0.06114761, 0.5099734 , 0.54991565,\n",
       "       0.5878395 , 0.38884784, 0.51492621, 0.48969213, 0.46729399,\n",
       "       0.33832716, 0.58967023, 0.51945199, 0.53987339, 0.05110746,\n",
       "       0.43992706, 0.06348896, 0.53945131, 0.08186284, 0.61446281,\n",
       "       0.05928863, 0.45399659, 0.07155372, 0.47005129, 0.46729399,\n",
       "       0.48839706, 0.6310934 , 0.07408897, 0.51987609, 0.25441689,\n",
       "       0.07253258, 0.07184028, 0.08725844, 0.06544448, 0.53339468,\n",
       "       0.56483119, 0.5737193 , 0.03679974, 0.49358505, 0.59175854,\n",
       "       0.05833244, 0.51298072, 0.57603787, 0.64657738, 0.50866398,\n",
       "       0.47653918, 0.44331391, 0.47313528, 0.37663847, 0.04995127,\n",
       "       0.47167421, 0.56483119, 0.50133715, 0.45399659, 0.45399659,\n",
       "       0.46525014, 0.43651078, 0.48537606, 0.10614806, 0.43875506,\n",
       "       0.46472179, 0.61335535, 0.30180395, 0.56023849, 0.45185634,\n",
       "       0.52160774, 0.66553993, 0.65098473, 0.08748427, 0.60122597,\n",
       "       0.49227544, 0.59646377, 0.52641796, 0.07264696, 0.57337988,\n",
       "       0.60495444, 0.50866398, 0.07788412, 0.48360753, 0.08734421,\n",
       "       0.62464204, 0.45048187, 0.44697208, 0.55289275, 0.45698164,\n",
       "       0.5056557 , 0.07498763, 0.60975609, 0.10338577, 0.54479375,\n",
       "       0.05958153, 0.06134298, 0.55961051, 0.1234738 , 0.48643711,\n",
       "       0.08970916, 0.06469504, 0.51298072, 0.5541876 , 0.46472179,\n",
       "       0.56907251, 0.37830211, 0.57707488, 0.42973145, 0.40788377,\n",
       "       0.53364154, 0.55673995, 0.57562288, 0.07069687, 0.0461636 ,\n",
       "       0.38530047, 0.42004363, 0.42910701, 0.46898613, 0.07633638,\n",
       "       0.46127154, 0.68087684, 0.46377787, 0.46472179, 0.55654429,\n",
       "       0.56016179, 0.54395092, 0.52160774, 0.06480648, 0.571224  ,\n",
       "       0.0627521 , 0.51814397, 0.45399659, 0.48495167, 0.49589985,\n",
       "       0.41415669, 0.64170228, 0.06366597, 0.52953051, 0.10221826,\n",
       "       0.41333246, 0.47459681, 0.48537606, 0.46472179, 0.06098847,\n",
       "       0.43936877, 0.09580825, 0.08304121, 0.56737017, 0.07069687,\n",
       "       0.53279577, 0.44331391, 0.55632062, 0.52118376, 0.34950258,\n",
       "       0.4978679 , 0.6910942 , 0.56903078, 0.07830617, 0.52849324,\n",
       "       0.49917776, 0.6564147 , 0.49987161, 0.53579052, 0.52543654,\n",
       "       0.56608363, 0.39344756, 0.516949  , 0.40041638, 0.49227544,\n",
       "       0.39344756, 0.62464204, 0.57876738, 0.60749626, 0.43651078,\n",
       "       0.08291193, 0.48347343, 0.06386884, 0.68851891, 0.15438149,\n",
       "       0.49443445, 0.5045372 , 0.62098297, 0.53966236, 0.4267845 ,\n",
       "       0.44331391, 0.05052554, 0.06890418, 0.58107855, 0.06502139,\n",
       "       0.54307251, 0.08893744, 0.52828154, 0.49659366, 0.51556276,\n",
       "       0.10614806, 0.07267558, 0.57835311, 0.5017619 , 0.41980907,\n",
       "       0.52008813, 0.5060804 , 0.49025121, 0.05967681, 0.08957051,\n",
       "       0.54050642, 0.07633638, 0.52030017, 0.51580326, 0.52968563,\n",
       "       0.45399659, 0.50083456, 0.08611051, 0.49659366, 0.62058299,\n",
       "       0.46771696, 0.57835311, 0.6849854 , 0.59476525, 0.46514446,\n",
       "       0.09432214, 0.50781469, 0.49400974, 0.49400974, 0.49139056,\n",
       "       0.47827027, 0.48279453, 0.05711561, 0.47202003, 0.51234399,\n",
       "       0.54651392, 0.08770155, 0.45786034, 0.54616997, 0.63998141,\n",
       "       0.56524876, 0.34842161, 0.53945131, 0.42467276, 0.49659366,\n",
       "       0.52384034, 0.54651392, 0.53490983, 0.49227544, 0.60749626,\n",
       "       0.49185079, 0.39975023, 0.44758125, 0.48106216, 0.04092125,\n",
       "       0.39255577, 0.45185634, 0.64346491, 0.52634034, 0.0884202 ,\n",
       "       0.45357546, 0.44628614, 0.52118376, 0.58817568, 0.10243152,\n",
       "       0.49132692, 0.07087943, 0.06765924, 0.43651078, 0.50091239,\n",
       "       0.41861624, 0.35063015, 0.47521128, 0.43992706, 0.07564043,\n",
       "       0.41604757, 0.51987609, 0.44758125, 0.39009371, 0.14234281,\n",
       "       0.48353702, 0.13252661, 0.48969213, 0.37703746, 0.071379  ,\n",
       "       0.53321868, 0.09459835, 0.07287622, 0.37663847, 0.47933025,\n",
       "       0.52941056, 0.47542315, 0.34792675, 0.5060804 , 0.47071446,\n",
       "       0.47159662, 0.06901691, 0.51382962, 0.50781469, 0.68275071,\n",
       "       0.47159662, 0.59981967, 0.10697039, 0.52245561, 0.48414516,\n",
       "       0.46299622, 0.58778453, 0.51987609, 0.498229  , 0.13741978,\n",
       "       0.44674122, 0.44571248, 0.53005958, 0.10483858, 0.42201796,\n",
       "       0.3829422 , 0.43143265, 0.54349409, 0.59175854, 0.05127802,\n",
       "       0.49528387, 0.55348092, 0.59592517, 0.55590121, 0.54429515,\n",
       "       0.48537606, 0.56907251, 0.46472179, 0.54513787, 0.06747367,\n",
       "       0.54173702, 0.43992706, 0.35421714, 0.53581873, 0.05711561,\n",
       "       0.45013837, 0.09144943, 0.50544334, 0.60902134, 0.64000755,\n",
       "       0.41907798, 0.54008442, 0.54485001, 0.62908018, 0.37939509,\n",
       "       0.55397771, 0.43936877, 0.52806984, 0.59774456, 0.59384354,\n",
       "       0.4857227 , 0.52849324, 0.48795837, 0.42801124, 0.45143555,\n",
       "       0.46564465, 0.45648281, 0.08611051, 0.03474124, 0.45996979,\n",
       "       0.59134802, 0.05445927, 0.54991565, 0.59283903, 0.52631206,\n",
       "       0.47848225, 0.06100305, 0.52245561, 0.53663558, 0.47159662,\n",
       "       0.56163352, 0.39222492, 0.0567431 , 0.07051103, 0.4183681 ,\n",
       "       0.04669646, 0.52035679, 0.5060804 , 0.05862091, 0.43842733,\n",
       "       0.49011672, 0.45022259, 0.4511971 , 0.10133025, 0.08611051,\n",
       "       0.54307251, 0.07645626, 0.47374956, 0.47848225, 0.55569147,\n",
       "       0.63789077, 0.47943626, 0.08530054, 0.63141642, 0.08503578,\n",
       "       0.10102123, 0.05403211, 0.54008442, 0.56005714, 0.60914948,\n",
       "       0.45288767, 0.44674122, 0.06158801, 0.47417317, 0.48666351,\n",
       "       0.52418646, 0.06968036, 0.47848225, 0.55264783, 0.70005885,\n",
       "       0.53364154, 0.35658516, 0.10779833, 0.50530881, 0.05385869,\n",
       "       0.06502139, 0.0548338 , 0.54630337, 0.06846036, 0.48859516])"
      ]
     },
     "execution_count": 73,
     "metadata": {},
     "output_type": "execute_result"
    }
   ],
   "source": [
    "y_pred_rate"
   ]
  },
  {
   "cell_type": "code",
   "execution_count": null,
   "id": "887ec8b6-cd07-41e9-84ce-ac1ed4217251",
   "metadata": {},
   "outputs": [],
   "source": [
    "fpr_rate,tpr_rate,thr_rate= roc_curve(probabilities_rate, y_test_rate)"
   ]
  },
  {
   "cell_type": "code",
   "execution_count": null,
   "id": "76a7815a-09d7-479f-8284-e4caa472bb5d",
   "metadata": {},
   "outputs": [],
   "source": []
  },
  {
   "cell_type": "code",
   "execution_count": 66,
   "id": "09cb004c-58ef-4648-b613-7f969607ef9e",
   "metadata": {},
   "outputs": [
    {
     "ename": "ValueError",
     "evalue": "continuous format is not supported",
     "output_type": "error",
     "traceback": [
      "\u001b[1;31m---------------------------------------------------------------------------\u001b[0m",
      "\u001b[1;31mValueError\u001b[0m                                Traceback (most recent call last)",
      "\u001b[1;32m<ipython-input-66-9666bffbfd26>\u001b[0m in \u001b[0;36m<module>\u001b[1;34m\u001b[0m\n\u001b[0;32m      1\u001b[0m \u001b[0mprobabilities_rate\u001b[0m \u001b[1;33m=\u001b[0m \u001b[0mmodel_rate\u001b[0m\u001b[1;33m.\u001b[0m\u001b[0mpredict_proba\u001b[0m\u001b[1;33m(\u001b[0m\u001b[0mX_test_rate\u001b[0m\u001b[1;33m)\u001b[0m\u001b[1;33m[\u001b[0m\u001b[1;33m:\u001b[0m\u001b[1;33m,\u001b[0m \u001b[1;36m1\u001b[0m\u001b[1;33m]\u001b[0m\u001b[1;33m\u001b[0m\u001b[1;33m\u001b[0m\u001b[0m\n\u001b[0;32m      2\u001b[0m \u001b[1;33m\u001b[0m\u001b[0m\n\u001b[1;32m----> 3\u001b[1;33m \u001b[0mtpr_rate\u001b[0m\u001b[1;33m,\u001b[0m \u001b[0mfpr_rate\u001b[0m\u001b[1;33m,\u001b[0m \u001b[0mthresholds_rate\u001b[0m \u001b[1;33m=\u001b[0m \u001b[0mroc_curve\u001b[0m\u001b[1;33m(\u001b[0m\u001b[0mprobabilities_rate\u001b[0m\u001b[1;33m,\u001b[0m \u001b[0my_test_rate\u001b[0m\u001b[1;33m)\u001b[0m\u001b[1;33m\u001b[0m\u001b[1;33m\u001b[0m\u001b[0m\n\u001b[0m\u001b[0;32m      4\u001b[0m \u001b[1;33m\u001b[0m\u001b[0m\n\u001b[0;32m      5\u001b[0m \u001b[0mplt\u001b[0m\u001b[1;33m.\u001b[0m\u001b[0mplot\u001b[0m\u001b[1;33m(\u001b[0m\u001b[0mfpr_rate\u001b[0m\u001b[1;33m,\u001b[0m \u001b[0mtpr_rate\u001b[0m\u001b[1;33m)\u001b[0m\u001b[1;33m\u001b[0m\u001b[1;33m\u001b[0m\u001b[0m\n",
      "\u001b[1;32m~\\Anaconda3\\envs\\python_fundamentals\\lib\\site-packages\\sklearn\\utils\\validation.py\u001b[0m in \u001b[0;36minner_f\u001b[1;34m(*args, **kwargs)\u001b[0m\n\u001b[0;32m     61\u001b[0m             \u001b[0mextra_args\u001b[0m \u001b[1;33m=\u001b[0m \u001b[0mlen\u001b[0m\u001b[1;33m(\u001b[0m\u001b[0margs\u001b[0m\u001b[1;33m)\u001b[0m \u001b[1;33m-\u001b[0m \u001b[0mlen\u001b[0m\u001b[1;33m(\u001b[0m\u001b[0mall_args\u001b[0m\u001b[1;33m)\u001b[0m\u001b[1;33m\u001b[0m\u001b[1;33m\u001b[0m\u001b[0m\n\u001b[0;32m     62\u001b[0m             \u001b[1;32mif\u001b[0m \u001b[0mextra_args\u001b[0m \u001b[1;33m<=\u001b[0m \u001b[1;36m0\u001b[0m\u001b[1;33m:\u001b[0m\u001b[1;33m\u001b[0m\u001b[1;33m\u001b[0m\u001b[0m\n\u001b[1;32m---> 63\u001b[1;33m                 \u001b[1;32mreturn\u001b[0m \u001b[0mf\u001b[0m\u001b[1;33m(\u001b[0m\u001b[1;33m*\u001b[0m\u001b[0margs\u001b[0m\u001b[1;33m,\u001b[0m \u001b[1;33m**\u001b[0m\u001b[0mkwargs\u001b[0m\u001b[1;33m)\u001b[0m\u001b[1;33m\u001b[0m\u001b[1;33m\u001b[0m\u001b[0m\n\u001b[0m\u001b[0;32m     64\u001b[0m \u001b[1;33m\u001b[0m\u001b[0m\n\u001b[0;32m     65\u001b[0m             \u001b[1;31m# extra_args > 0\u001b[0m\u001b[1;33m\u001b[0m\u001b[1;33m\u001b[0m\u001b[1;33m\u001b[0m\u001b[0m\n",
      "\u001b[1;32m~\\Anaconda3\\envs\\python_fundamentals\\lib\\site-packages\\sklearn\\metrics\\_ranking.py\u001b[0m in \u001b[0;36mroc_curve\u001b[1;34m(y_true, y_score, pos_label, sample_weight, drop_intermediate)\u001b[0m\n\u001b[0;32m    912\u001b[0m     \"\"\"\n\u001b[0;32m    913\u001b[0m     fps, tps, thresholds = _binary_clf_curve(\n\u001b[1;32m--> 914\u001b[1;33m         y_true, y_score, pos_label=pos_label, sample_weight=sample_weight)\n\u001b[0m\u001b[0;32m    915\u001b[0m \u001b[1;33m\u001b[0m\u001b[0m\n\u001b[0;32m    916\u001b[0m     \u001b[1;31m# Attempt to drop thresholds corresponding to points in between and\u001b[0m\u001b[1;33m\u001b[0m\u001b[1;33m\u001b[0m\u001b[1;33m\u001b[0m\u001b[0m\n",
      "\u001b[1;32m~\\Anaconda3\\envs\\python_fundamentals\\lib\\site-packages\\sklearn\\metrics\\_ranking.py\u001b[0m in \u001b[0;36m_binary_clf_curve\u001b[1;34m(y_true, y_score, pos_label, sample_weight)\u001b[0m\n\u001b[0;32m    689\u001b[0m     if not (y_type == \"binary\" or\n\u001b[0;32m    690\u001b[0m             (y_type == \"multiclass\" and pos_label is not None)):\n\u001b[1;32m--> 691\u001b[1;33m         \u001b[1;32mraise\u001b[0m \u001b[0mValueError\u001b[0m\u001b[1;33m(\u001b[0m\u001b[1;34m\"{0} format is not supported\"\u001b[0m\u001b[1;33m.\u001b[0m\u001b[0mformat\u001b[0m\u001b[1;33m(\u001b[0m\u001b[0my_type\u001b[0m\u001b[1;33m)\u001b[0m\u001b[1;33m)\u001b[0m\u001b[1;33m\u001b[0m\u001b[1;33m\u001b[0m\u001b[0m\n\u001b[0m\u001b[0;32m    692\u001b[0m \u001b[1;33m\u001b[0m\u001b[0m\n\u001b[0;32m    693\u001b[0m     \u001b[0mcheck_consistent_length\u001b[0m\u001b[1;33m(\u001b[0m\u001b[0my_true\u001b[0m\u001b[1;33m,\u001b[0m \u001b[0my_score\u001b[0m\u001b[1;33m,\u001b[0m \u001b[0msample_weight\u001b[0m\u001b[1;33m)\u001b[0m\u001b[1;33m\u001b[0m\u001b[1;33m\u001b[0m\u001b[0m\n",
      "\u001b[1;31mValueError\u001b[0m: continuous format is not supported"
     ]
    }
   ],
   "source": [
    "\n",
    "\n",
    "tpr_rate, fpr_rate, thresholds_rate = roc_curve(y_test_rate,tpr_rate,)\n",
    "\n",
    "plt.plot(fpr_rate, tpr_rate)\n",
    "plt.xlabel(\"False Positive Rate (1 - Specificity)\")\n",
    "plt.ylabel(\"True Positive Rate (Sensitivity, Recall)\")\n",
    "plt.title(\"ROC plot of fake data\")\n",
    "plt.show()"
   ]
  },
  {
   "cell_type": "code",
   "execution_count": null,
   "id": "d24b6ece-feb0-4eee-a4f4-ef622fa5ab48",
   "metadata": {},
   "outputs": [],
   "source": []
  }
 ],
 "metadata": {
  "kernelspec": {
   "display_name": "Python 3",
   "language": "python",
   "name": "python3"
  },
  "language_info": {
   "codemirror_mode": {
    "name": "ipython",
    "version": 3
   },
   "file_extension": ".py",
   "mimetype": "text/x-python",
   "name": "python",
   "nbconvert_exporter": "python",
   "pygments_lexer": "ipython3",
   "version": "3.6.13"
  }
 },
 "nbformat": 4,
 "nbformat_minor": 5
}
